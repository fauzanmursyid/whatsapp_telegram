{
  "nbformat": 4,
  "nbformat_minor": 0,
  "metadata": {
    "colab": {
      "name": "Copy of Final_Project.ipynb",
      "provenance": []
    },
    "kernelspec": {
      "display_name": "Python 3",
      "language": "python",
      "name": "python3"
    },
    "language_info": {
      "codemirror_mode": {
        "name": "ipython",
        "version": 3
      },
      "file_extension": ".py",
      "mimetype": "text/x-python",
      "name": "python",
      "nbconvert_exporter": "python",
      "pygments_lexer": "ipython3",
      "version": "3.7.3"
    },
    "toc": {
      "base_numbering": 1,
      "nav_menu": {},
      "number_sections": true,
      "sideBar": true,
      "skip_h1_title": false,
      "title_cell": "Table of Contents",
      "title_sidebar": "Contents",
      "toc_cell": false,
      "toc_position": {},
      "toc_section_display": true,
      "toc_window_display": false
    }
  },
  "cells": [
    {
      "cell_type": "code",
      "metadata": {
        "id": "zONwCBgNWGpz"
      },
      "source": [
        "!pip install pyLDAvis"
      ],
      "execution_count": null,
      "outputs": []
    },
    {
      "cell_type": "code",
      "metadata": {
        "id": "RlJZMVty2hk8"
      },
      "source": [
        "!pip install spacy==2.2"
      ],
      "execution_count": null,
      "outputs": []
    },
    {
      "cell_type": "code",
      "metadata": {
        "id": "b9EtCDIlB1-x"
      },
      "source": [
        "import os\n",
        "os.kill(os.getpid(), 9)"
      ],
      "execution_count": null,
      "outputs": []
    },
    {
      "cell_type": "markdown",
      "metadata": {
        "id": "gzXrL8_F1u5M"
      },
      "source": [
        "## Data Cleaning"
      ]
    },
    {
      "cell_type": "code",
      "metadata": {
        "id": "_2PIesKe0H2j"
      },
      "source": [
        "import os\n",
        "import csv"
      ],
      "execution_count": 1,
      "outputs": []
    },
    {
      "cell_type": "code",
      "metadata": {
        "colab": {
          "base_uri": "https://localhost:8080/"
        },
        "id": "tRm4CYu90H2y",
        "outputId": "4fc0df7a-4cc5-44c3-da24-f96811598a78"
      },
      "source": [
        "import nltk\n",
        "from nltk.sentiment.vader import SentimentIntensityAnalyzer\n",
        "nltk.download('vader_lexicon')"
      ],
      "execution_count": 2,
      "outputs": [
        {
          "output_type": "stream",
          "text": [
            "/usr/local/lib/python3.7/dist-packages/nltk/twitter/__init__.py:20: UserWarning: The twython library has not been installed. Some functionality from the twitter package will not be available.\n",
            "  warnings.warn(\"The twython library has not been installed. \"\n"
          ],
          "name": "stderr"
        },
        {
          "output_type": "stream",
          "text": [
            "[nltk_data] Downloading package vader_lexicon to /root/nltk_data...\n"
          ],
          "name": "stdout"
        },
        {
          "output_type": "execute_result",
          "data": {
            "text/plain": [
              "True"
            ]
          },
          "metadata": {
            "tags": []
          },
          "execution_count": 2
        }
      ]
    },
    {
      "cell_type": "code",
      "metadata": {
        "colab": {
          "base_uri": "https://localhost:8080/"
        },
        "id": "-z7uzxhB1u5N",
        "outputId": "d5ad3878-bf65-487e-c9d4-e0cccb28a6e8"
      },
      "source": [
        "from nltk.corpus import stopwords\n",
        "nltk.download('stopwords')\n",
        "from nltk.stem import PorterStemmer"
      ],
      "execution_count": 3,
      "outputs": [
        {
          "output_type": "stream",
          "text": [
            "[nltk_data] Downloading package stopwords to /root/nltk_data...\n",
            "[nltk_data]   Unzipping corpora/stopwords.zip.\n"
          ],
          "name": "stdout"
        }
      ]
    },
    {
      "cell_type": "markdown",
      "metadata": {
        "id": "NhDusJRJCAJZ"
      },
      "source": [
        "## Important:\n",
        "\n",
        "This Python notebook is designed to run in Google Colab. When you run the code below, an upload button will appear. Click the upload button, and choose the .csv file that you want to clean and analyze."
      ]
    },
    {
      "cell_type": "code",
      "metadata": {
        "colab": {
          "resources": {
            "http://localhost:8080/nbextensions/google.colab/files.js": {
              "data": "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",
              "ok": true,
              "headers": [
                [
                  "content-type",
                  "application/javascript"
                ]
              ],
              "status": 200,
              "status_text": ""
            }
          },
          "base_uri": "https://localhost:8080/",
          "height": 72
        },
        "id": "REdB4WMyTKPJ",
        "outputId": "6e3617d1-1d62-4961-a057-e63e557ff6b2"
      },
      "source": [
        "from google.colab import files \n",
        "  \n",
        "uploaded = files.upload()"
      ],
      "execution_count": 82,
      "outputs": [
        {
          "output_type": "display_data",
          "data": {
            "text/html": [
              "\n",
              "     <input type=\"file\" id=\"files-6708f21d-2068-498b-97cc-d55ccabaefd8\" name=\"files[]\" multiple disabled\n",
              "        style=\"border:none\" />\n",
              "     <output id=\"result-6708f21d-2068-498b-97cc-d55ccabaefd8\">\n",
              "      Upload widget is only available when the cell has been executed in the\n",
              "      current browser session. Please rerun this cell to enable.\n",
              "      </output>\n",
              "      <script src=\"/nbextensions/google.colab/files.js\"></script> "
            ],
            "text/plain": [
              "<IPython.core.display.HTML object>"
            ]
          },
          "metadata": {
            "tags": []
          }
        },
        {
          "output_type": "stream",
          "text": [
            "Saving telegram_privacy.csv to telegram_privacy.csv\n"
          ],
          "name": "stdout"
        }
      ]
    },
    {
      "cell_type": "code",
      "metadata": {
        "id": "6v1ypS5nXA3J"
      },
      "source": [
        "import pandas as pd\n",
        "import io"
      ],
      "execution_count": 6,
      "outputs": []
    },
    {
      "cell_type": "markdown",
      "metadata": {
        "id": "dGnNM6MHCp-F"
      },
      "source": [
        "## Important:\n",
        "\n",
        "Choose the python code below that match the name of the file that you uploaded above to read the csv file. For example, if you uploaded the telegram_2020.csv file, please use the df = pd.read_csv(io.BytesIO(uploaded['telegram_2020.csv'])) code and ignore the rest."
      ]
    },
    {
      "cell_type": "code",
      "metadata": {
        "colab": {
          "base_uri": "https://localhost:8080/",
          "height": 204
        },
        "id": "JlZSu2OmTZ_G",
        "outputId": "ad8e387e-9693-4c06-9f52-d21befcc9455"
      },
      "source": [
        " \n",
        "df = pd.read_csv(io.BytesIO(uploaded['telegram_2020.csv']))\n",
        "df.head()"
      ],
      "execution_count": 7,
      "outputs": [
        {
          "output_type": "execute_result",
          "data": {
            "text/html": [
              "<div>\n",
              "<style scoped>\n",
              "    .dataframe tbody tr th:only-of-type {\n",
              "        vertical-align: middle;\n",
              "    }\n",
              "\n",
              "    .dataframe tbody tr th {\n",
              "        vertical-align: top;\n",
              "    }\n",
              "\n",
              "    .dataframe thead th {\n",
              "        text-align: right;\n",
              "    }\n",
              "</style>\n",
              "<table border=\"1\" class=\"dataframe\">\n",
              "  <thead>\n",
              "    <tr style=\"text-align: right;\">\n",
              "      <th></th>\n",
              "      <th>text</th>\n",
              "    </tr>\n",
              "  </thead>\n",
              "  <tbody>\n",
              "    <tr>\n",
              "      <th>0</th>\n",
              "      <td>#telegram paid service registrations are open ...</td>\n",
              "    </tr>\n",
              "    <tr>\n",
              "      <th>1</th>\n",
              "      <td>#Corona Info for #Germany:\\r\\nNew Cases: 9060\\...</td>\n",
              "    </tr>\n",
              "    <tr>\n",
              "      <th>2</th>\n",
              "      <td>If you haven't checked out our #ICON #Telegram...</td>\n",
              "    </tr>\n",
              "    <tr>\n",
              "      <th>3</th>\n",
              "      <td>RT @africademics: Launch Alert: Join our new #...</td>\n",
              "    </tr>\n",
              "    <tr>\n",
              "      <th>4</th>\n",
              "      <td>RT @HannaLiubakova: #Belarus Day 120. Belarusi...</td>\n",
              "    </tr>\n",
              "  </tbody>\n",
              "</table>\n",
              "</div>"
            ],
            "text/plain": [
              "                                                text\n",
              "0  #telegram paid service registrations are open ...\n",
              "1  #Corona Info for #Germany:\\r\\nNew Cases: 9060\\...\n",
              "2  If you haven't checked out our #ICON #Telegram...\n",
              "3  RT @africademics: Launch Alert: Join our new #...\n",
              "4  RT @HannaLiubakova: #Belarus Day 120. Belarusi..."
            ]
          },
          "metadata": {
            "tags": []
          },
          "execution_count": 7
        }
      ]
    },
    {
      "cell_type": "code",
      "metadata": {
        "id": "qpiJ7ihMOCaV"
      },
      "source": [
        "df = pd.read_csv(io.BytesIO(uploaded['telegram_2021.csv']))"
      ],
      "execution_count": 18,
      "outputs": []
    },
    {
      "cell_type": "code",
      "metadata": {
        "id": "ZK7XqXFpOLzh"
      },
      "source": [
        "df = pd.read_csv(io.BytesIO(uploaded['whatsapp_2020.csv']))"
      ],
      "execution_count": 29,
      "outputs": []
    },
    {
      "cell_type": "code",
      "metadata": {
        "id": "F1OmtUI-OVJU"
      },
      "source": [
        "df = pd.read_csv(io.BytesIO(uploaded['whatsapp_2021.csv']))"
      ],
      "execution_count": 46,
      "outputs": []
    },
    {
      "cell_type": "code",
      "metadata": {
        "id": "MaALlJ7LOhLE"
      },
      "source": [
        "df = pd.read_csv(io.BytesIO(uploaded['telegram_privacy.csv']))"
      ],
      "execution_count": 83,
      "outputs": []
    },
    {
      "cell_type": "code",
      "metadata": {
        "id": "mWp-5tRQOp7_"
      },
      "source": [
        "df = pd.read_csv(io.BytesIO(uploaded['whatsapp_privacy.csv']))"
      ],
      "execution_count": 74,
      "outputs": []
    },
    {
      "cell_type": "code",
      "metadata": {
        "id": "qNnXe7ihOr9D"
      },
      "source": [
        "df = pd.read_csv(io.BytesIO(uploaded['whatsapp_feature.csv']))"
      ],
      "execution_count": 55,
      "outputs": []
    },
    {
      "cell_type": "code",
      "metadata": {
        "id": "DuoCzCDnOwWU"
      },
      "source": [
        "df = pd.read_csv(io.BytesIO(uploaded['telegram_feature.csv']))"
      ],
      "execution_count": 64,
      "outputs": []
    },
    {
      "cell_type": "code",
      "metadata": {
        "id": "fEx3rfSLOz9C"
      },
      "source": [
        "df = pd.read_csv(io.BytesIO(uploaded['whatsapp.csv']))"
      ],
      "execution_count": null,
      "outputs": []
    },
    {
      "cell_type": "code",
      "metadata": {
        "id": "P_IO3Sb_O39J"
      },
      "source": [
        "df = pd.read_csv(io.BytesIO(uploaded['telegram.csv']))"
      ],
      "execution_count": null,
      "outputs": []
    },
    {
      "cell_type": "markdown",
      "metadata": {
        "id": "Rv_88ukDDcVK"
      },
      "source": [
        "## Important:\n",
        "\n",
        "The dataset will be read as the df object. So all the codes below can be used, regardless of which dataset you uploaded."
      ]
    },
    {
      "cell_type": "code",
      "metadata": {
        "id": "omAB3Dtk1u5N"
      },
      "source": [
        "X=df['text']\n",
        "stop_words=stopwords.words('english')\n",
        "stemmer=PorterStemmer()\n",
        "import re\n",
        "cleaned_data=[]\n",
        "for i in range(len(X)):\n",
        "    tweet=re.sub('[^a-zA-Z]',' ',X.iloc[i])\n",
        "    tweet=tweet.lower().split()\n",
        "    tweet=[stemmer.stem(word) for word in tweet if (word not in stop_words)]\n",
        "    tweet=' '.join(tweet)\n",
        "    cleaned_data.append(tweet)"
      ],
      "execution_count": 84,
      "outputs": []
    },
    {
      "cell_type": "code",
      "metadata": {
        "colab": {
          "base_uri": "https://localhost:8080/",
          "height": 204
        },
        "id": "itZJA7CD1u5N",
        "outputId": "27bb12f0-e95d-4c5a-f304-0f7b012d085f"
      },
      "source": [
        "df = pd.DataFrame(cleaned_data,columns=[\"tweets_cleaned\"])\n",
        "df.head()"
      ],
      "execution_count": 85,
      "outputs": [
        {
          "output_type": "execute_result",
          "data": {
            "text/html": [
              "<div>\n",
              "<style scoped>\n",
              "    .dataframe tbody tr th:only-of-type {\n",
              "        vertical-align: middle;\n",
              "    }\n",
              "\n",
              "    .dataframe tbody tr th {\n",
              "        vertical-align: top;\n",
              "    }\n",
              "\n",
              "    .dataframe thead th {\n",
              "        text-align: right;\n",
              "    }\n",
              "</style>\n",
              "<table border=\"1\" class=\"dataframe\">\n",
              "  <thead>\n",
              "    <tr style=\"text-align: right;\">\n",
              "      <th></th>\n",
              "      <th>tweets_cleaned</th>\n",
              "    </tr>\n",
              "  </thead>\n",
              "  <tbody>\n",
              "    <tr>\n",
              "      <th>0</th>\n",
              "      <td>rt itssssp peopl instal telegram whatsapp chan...</td>\n",
              "    </tr>\n",
              "    <tr>\n",
              "      <th>1</th>\n",
              "      <td>research mkm partner find facebook could face ...</td>\n",
              "    </tr>\n",
              "    <tr>\n",
              "      <th>2</th>\n",
              "      <td>rt dharmarajmc best choic whatsappnewpolici te...</td>\n",
              "    </tr>\n",
              "    <tr>\n",
              "      <th>3</th>\n",
              "      <td>latest privaci daili http co crm zgbxni whatsa...</td>\n",
              "    </tr>\n",
              "    <tr>\n",
              "      <th>4</th>\n",
              "      <td>ownyourprivaci share post start thedatatalk fa...</td>\n",
              "    </tr>\n",
              "  </tbody>\n",
              "</table>\n",
              "</div>"
            ],
            "text/plain": [
              "                                      tweets_cleaned\n",
              "0  rt itssssp peopl instal telegram whatsapp chan...\n",
              "1  research mkm partner find facebook could face ...\n",
              "2  rt dharmarajmc best choic whatsappnewpolici te...\n",
              "3  latest privaci daili http co crm zgbxni whatsa...\n",
              "4  ownyourprivaci share post start thedatatalk fa..."
            ]
          },
          "metadata": {
            "tags": []
          },
          "execution_count": 85
        }
      ]
    },
    {
      "cell_type": "markdown",
      "metadata": {
        "id": "YY2IB6Ft0H2-"
      },
      "source": [
        "# LDA"
      ]
    },
    {
      "cell_type": "code",
      "metadata": {
        "id": "PGV8XPCPc48c"
      },
      "source": [
        "import spacy\n",
        "nlp = spacy.load(\"en_core_web_sm\")\n",
        "def lemmatizer(text):        \n",
        "    sent = []\n",
        "    doc = nlp(text)\n",
        "    for word in doc:\n",
        "        sent.append(word.lemma_)\n",
        "    return \" \".join(sent)\n",
        "new_tweets_df_clean = pd.DataFrame(df.tweets_cleaned.apply(lambda x: lemmatizer(x)))\n",
        "new_tweets_df_clean['tweets_cleaned'] = new_tweets_df_clean['tweets_cleaned'].str.replace('-PRON-', '')"
      ],
      "execution_count": 86,
      "outputs": []
    },
    {
      "cell_type": "code",
      "metadata": {
        "colab": {
          "base_uri": "https://localhost:8080/"
        },
        "id": "F5SAZxdjgcZS",
        "outputId": "514794ac-b878-4609-a22a-7ebb1156576d"
      },
      "source": [
        "from sklearn.decomposition import LatentDirichletAllocation\n",
        "from sklearn.feature_extraction.text import CountVectorizer\n",
        "vectorizer = CountVectorizer(\n",
        "analyzer='word',       \n",
        "min_df=3,# minimum required occurences of a word \n",
        "stop_words='english',# remove stop words\n",
        "lowercase=True,# convert all words to lowercase\n",
        "token_pattern='[a-zA-Z0-9]{3,}',# num chars > 3\n",
        "max_features=5000,# max number of unique words\n",
        "                            )\n",
        "data_matrix = vectorizer.fit_transform(new_tweets_df_clean.tweets_cleaned)\n",
        "data_matrix"
      ],
      "execution_count": 87,
      "outputs": [
        {
          "output_type": "execute_result",
          "data": {
            "text/plain": [
              "<394x413 sparse matrix of type '<class 'numpy.int64'>'\n",
              "\twith 3501 stored elements in Compressed Sparse Row format>"
            ]
          },
          "metadata": {
            "tags": []
          },
          "execution_count": 87
        }
      ]
    },
    {
      "cell_type": "code",
      "metadata": {
        "id": "RjrZoIkrg2TJ"
      },
      "source": [
        "lda_model = LatentDirichletAllocation(\n",
        "n_components=10, # Number of topics\n",
        "learning_method='online',\n",
        "random_state=20,       \n",
        "n_jobs = -1  # Use all available CPUs\n",
        "                                     )\n",
        "lda_output = lda_model.fit_transform(data_matrix)"
      ],
      "execution_count": 88,
      "outputs": []
    },
    {
      "cell_type": "code",
      "metadata": {
        "colab": {
          "base_uri": "https://localhost:8080/",
          "height": 1000
        },
        "id": "UJpQG8pkg_Jw",
        "outputId": "56fa87d9-9c04-40e8-a4eb-1db3e5be510b"
      },
      "source": [
        "import pyLDAvis\n",
        "import pyLDAvis.sklearn\n",
        "pyLDAvis.enable_notebook()\n",
        "pyLDAvis.sklearn.prepare(lda_model, data_matrix, vectorizer, mds='tsne')"
      ],
      "execution_count": 89,
      "outputs": [
        {
          "output_type": "stream",
          "text": [
            "/usr/local/lib/python3.7/dist-packages/sklearn/metrics/pairwise.py:56: DeprecationWarning: `np.float` is a deprecated alias for the builtin `float`. To silence this warning, use `float` by itself. Doing this will not modify any behavior and is safe. If you specifically wanted the numpy scalar type, use `np.float64` here.\n",
            "Deprecated in NumPy 1.20; for more details and guidance: https://numpy.org/devdocs/release/1.20.0-notes.html#deprecations\n",
            "  dtype = np.float\n",
            "/usr/local/lib/python3.7/dist-packages/sklearn/manifold/_t_sne.py:348: DeprecationWarning: `np.float` is a deprecated alias for the builtin `float`. To silence this warning, use `float` by itself. Doing this will not modify any behavior and is safe. If you specifically wanted the numpy scalar type, use `np.float64` here.\n",
            "Deprecated in NumPy 1.20; for more details and guidance: https://numpy.org/devdocs/release/1.20.0-notes.html#deprecations\n",
            "  error = np.finfo(np.float).max\n",
            "/usr/local/lib/python3.7/dist-packages/sklearn/manifold/_t_sne.py:349: DeprecationWarning: `np.float` is a deprecated alias for the builtin `float`. To silence this warning, use `float` by itself. Doing this will not modify any behavior and is safe. If you specifically wanted the numpy scalar type, use `np.float64` here.\n",
            "Deprecated in NumPy 1.20; for more details and guidance: https://numpy.org/devdocs/release/1.20.0-notes.html#deprecations\n",
            "  best_error = np.finfo(np.float).max\n",
            "/usr/local/lib/python3.7/dist-packages/sklearn/manifold/_t_sne.py:348: DeprecationWarning: `np.float` is a deprecated alias for the builtin `float`. To silence this warning, use `float` by itself. Doing this will not modify any behavior and is safe. If you specifically wanted the numpy scalar type, use `np.float64` here.\n",
            "Deprecated in NumPy 1.20; for more details and guidance: https://numpy.org/devdocs/release/1.20.0-notes.html#deprecations\n",
            "  error = np.finfo(np.float).max\n",
            "/usr/local/lib/python3.7/dist-packages/sklearn/manifold/_t_sne.py:349: DeprecationWarning: `np.float` is a deprecated alias for the builtin `float`. To silence this warning, use `float` by itself. Doing this will not modify any behavior and is safe. If you specifically wanted the numpy scalar type, use `np.float64` here.\n",
            "Deprecated in NumPy 1.20; for more details and guidance: https://numpy.org/devdocs/release/1.20.0-notes.html#deprecations\n",
            "  best_error = np.finfo(np.float).max\n"
          ],
          "name": "stderr"
        },
        {
          "output_type": "execute_result",
          "data": {
            "text/html": [
              "\n",
              "<link rel=\"stylesheet\" type=\"text/css\" href=\"https://cdn.jsdelivr.net/gh/bmabey/pyLDAvis@3.3.1/pyLDAvis/js/ldavis.v1.0.0.css\">\n",
              "\n",
              "\n",
              "<div id=\"ldavis_el156140239332870480252670572\"></div>\n",
              "<script type=\"text/javascript\">\n",
              "\n",
              "var ldavis_el156140239332870480252670572_data = {\"mdsDat\": {\"x\": [32.42095184326172, 0.648955225944519, 71.01968383789062, 3.7859814167022705, -42.666500091552734, -3.6216893196105957, -3.632401704788208, -36.58440017700195, 44.391380310058594, 40.235809326171875], \"y\": [8.115229606628418, 71.70709991455078, 9.971006393432617, 33.18513488769531, -9.22206974029541, -43.52651596069336, -4.171707630157471, 35.804412841796875, 50.61538314819336, -31.591665267944336], \"topics\": [1, 2, 3, 4, 5, 6, 7, 8, 9, 10], \"cluster\": [1, 1, 1, 1, 1, 1, 1, 1, 1, 1], \"Freq\": [30.745611887484536, 23.851114600813496, 13.114677791794174, 6.961831261303726, 5.739107974106623, 5.70068738609962, 3.976992785784734, 3.931314332170372, 3.517725847285294, 2.460936133157421]}, \"tinfo\": {\"Term\": [\"telegram\", \"amp\", \"http\", \"privaci\", \"polici\", \"whatsapp\", \"infosec\", \"cybersecur\", \"term\", \"app\", \"justic\", \"updat\", \"facebook\", \"total\", \"databreach\", \"secur\", \"becom\", \"gdpr\", \"peopl\", \"new\", \"malwar\", \"dataprotect\", \"everyon\", \"encrochat\", \"agre\", \"internet\", \"cloud\", \"servic\", \"data\", \"share\", \"whatsappnewpolici\", \"signal\", \"use\", \"light\", \"signalapp\", \"join\", \"news\", \"messag\", \"whatsappprivacypolici\", \"telegram\", \"channel\", \"bitcoin\", \"set\", \"issu\", \"develop\", \"websit\", \"autom\", \"btc\", \"know\", \"eth\", \"differ\", \"crypto\", \"android\", \"action\", \"remov\", \"invest\", \"zec\", \"late\", \"dash\", \"tweet\", \"code\", \"say\", \"free\", \"whatsapp\", \"encrypt\", \"technolog\", \"app\", \"http\", \"like\", \"privaci\", \"plea\", \"peopl\", \"facebook\", \"user\", \"amp\", \"new\", \"secur\", \"help\", \"commun\", \"time\", \"cyber\", \"cyberattack\", \"home\", \"socialmedia\", \"onlin\", \"file\", \"talk\", \"gari\", \"violenc\", \"right\", \"hack\", \"public\", \"surveil\", \"dataprivaci\", \"mani\", \"social\", \"drjdrooghaag\", \"collect\", \"year\", \"datasecur\", \"project\", \"present\", \"machinelearn\", \"ysign\", \"turn\", \"biometr\", \"authent\", \"new\", \"everi\", \"privaci\", \"cybersecur\", \"secur\", \"http\", \"infosec\", \"updat\", \"user\", \"polici\", \"whatsapp\", \"data\", \"gdpr\", \"threat\", \"manag\", \"startup\", \"launch\", \"daili\", \"instagram\", \"iotex\", \"cycloneprotocol\", \"cyclon\", \"complianc\", \"follow\", \"amazon\", \"discuss\", \"maintain\", \"power\", \"propos\", \"protect\", \"cloudsecur\", \"protocol\", \"offici\", \"fintech\", \"youtub\", \"regul\", \"happi\", \"busi\", \"click\", \"activ\", \"futur\", \"credit\", \"law\", \"googl\", \"secur\", \"cybersecur\", \"http\", \"privaci\", \"data\", \"inform\", \"dataprotect\", \"late\", \"term\", \"agre\", \"mandatori\", \"thehackersnew\", \"imp\", \"stop\", \"servic\", \"make\", \"xhv\", \"internet\", \"share\", \"polici\", \"updat\", \"publish\", \"facebook\", \"app\", \"privat\", \"write\", \"data\", \"million\", \"competit\", \"court\", \"high\", \"provid\", \"europ\", \"freedom\", \"laugh\", \"learn\", \"week\", \"credit\", \"whatsapp\", \"privaci\", \"chang\", \"good\", \"public\", \"databreach\", \"phish\", \"cybersec\", \"singapor\", \"bitdefend\", \"number\", \"ransomwar\", \"humanright\", \"malwar\", \"mentalhealth\", \"safeti\", \"sell\", \"hacker\", \"phone\", \"cyberthreat\", \"bot\", \"account\", \"datum\", \"dataprotect\", \"tiktok\", \"report\", \"riskmanag\", \"infosec\", \"recent\", \"china\", \"hand\", \"watch\", \"someon\", \"transpar\", \"work\", \"datasecur\", \"cybersecur\", \"tech\", \"http\", \"plea\", \"privaci\", \"secur\", \"facebook\", \"bigcoinvietnam\", \"host\", \"ratan\", \"cloud\", \"cloudcomput\", \"ama\", \"honor\", \"team\", \"reach\", \"informationsecur\", \"group\", \"mean\", \"attack\", \"great\", \"digit\", \"accept\", \"major\", \"actual\", \"risk\", \"hacker\", \"trust\", \"content\", \"chat\", \"problem\", \"model\", \"anoth\", \"million\", \"recent\", \"mobil\", \"malwar\", \"cloudsecur\", \"infosec\", \"dataprotect\", \"cybersecur\", \"http\", \"privaci\", \"user\", \"telegram\", \"corrupt\", \"nca\", \"hear\", \"justic\", \"encrochat\", \"review\", \"man\", \"amp\", \"everyon\", \"mad\", \"amaz\", \"therew\", \"cigarett\", \"blow\", \"becom\", \"zuckerberg\", \"password\", \"effort\", \"individu\", \"anoth\", \"ethic\", \"intern\", \"safeguard\", \"rule\", \"ident\", \"respect\", \"parti\", \"soon\", \"democraci\", \"dataprivacyday\", \"privaci\", \"busi\", \"today\", \"publicsex\", \"exhibitionist\", \"readi\", \"fuw\", \"publicnak\", \"post\", \"locat\", \"day\", \"wish\", \"download\", \"januari\", \"good\", \"allow\", \"track\", \"iphon\", \"platform\", \"write\", \"everi\", \"mind\", \"fun\", \"topic\", \"competit\", \"speech\", \"advertis\", \"happi\", \"click\", \"appl\", \"individu\", \"leav\", \"mean\", \"user\", \"telegram\", \"http\", \"concern\", \"group\", \"connect\", \"attack\", \"peopl\", \"sell\", \"say\", \"movi\", \"instal\", \"itssssp\", \"delet\", \"alreadi\", \"web\", \"februari\", \"download\", \"violat\", \"chang\", \"peopl\", \"come\", \"import\", \"watch\", \"laugh\", \"xtz\", \"major\", \"coin\", \"demand\", \"accept\", \"think\", \"rais\", \"problem\", \"trade\", \"whatsappprivaci\", \"price\", \"aim\", \"encrypt\", \"solut\", \"account\", \"anonym\", \"polici\", \"telegram\", \"whatsapp\", \"privaci\", \"locat\", \"total\", \"case\", \"coronaviru\", \"covid\", \"coronatrackernep\", \"recoveri\", \"bot\", \"today\", \"sourc\", \"info\", \"avoid\", \"germani\", \"excit\", \"activ\", \"world\", \"usa\", \"onlyfan\", \"read\", \"look\", \"new\", \"cigarett\", \"therew\", \"blow\", \"effort\", \"safeguard\", \"intern\", \"ident\", \"anoth\", \"abandon\", \"big\", \"freedom\", \"telegram\", \"click\", \"provid\", \"instagram\", \"make\", \"platform\", \"becom\", \"say\", \"link\", \"http\"], \"Freq\": [149.0, 38.0, 328.0, 285.0, 39.0, 76.0, 39.0, 63.0, 20.0, 30.0, 14.0, 24.0, 32.0, 9.0, 13.0, 53.0, 14.0, 19.0, 15.0, 28.0, 14.0, 21.0, 11.0, 10.0, 12.0, 14.0, 12.0, 14.0, 28.0, 15.0, 23.355746070714147, 20.16234822150547, 24.485210302783617, 13.16240304621521, 9.979001445187118, 21.722849360749635, 16.905489654656215, 11.084888579921978, 7.1329219901483025, 129.46502697577304, 6.147534191383115, 5.698840121579331, 5.7281936710105175, 8.745569956741667, 5.598815148859633, 5.053250262875405, 4.995411048474885, 4.839088306659262, 7.691872973095484, 4.160622437809471, 4.059991687898621, 7.1128848699847556, 3.9967998343864255, 3.9685874256499725, 3.3742808421335067, 3.330680743002155, 3.3015458382178666, 19.927252967533995, 3.2024904480200878, 3.195468084879694, 5.0270384606035545, 6.997944304424257, 8.843954697122792, 46.01315115280146, 7.276086643318739, 12.750798149307778, 18.594089278143784, 137.3709062837047, 9.523411206826157, 61.08511449987069, 6.564873447397847, 7.508555335803567, 10.078322116657036, 9.609606700723512, 8.550116576442889, 7.618751636907705, 6.490439925067351, 13.579763539864935, 16.12025841847788, 12.245578127396959, 11.17934089543555, 10.665743003629427, 10.531318041426541, 11.664931261390805, 10.035943965817793, 9.497340390712395, 9.487745765705919, 9.442371686710281, 9.444453362332437, 16.575213850976134, 6.421708459598368, 9.492153598329509, 5.907584446096475, 12.81210347136231, 11.181721864428628, 5.700393719156927, 3.5414023250312257, 3.4881878280734493, 12.750399071590861, 12.927699249525391, 2.510535535225082, 2.819856987515574, 2.401080190711106, 2.4293640076108414, 2.3896614107250937, 2.6749475758915886, 4.021091288415106, 18.80994158272817, 8.921665802019202, 115.45024600766389, 28.44436522685479, 23.93929734373185, 98.96520569489716, 16.73146068897598, 10.281795956946059, 10.762788655121264, 11.028653755023901, 13.743936989871703, 9.007907194199893, 18.040085549983534, 12.838637520209904, 13.20854471593688, 11.036729352340195, 6.4618667451823795, 4.865217259305903, 3.491048254409215, 3.5680127907508825, 3.570125885581977, 3.570831182188566, 13.846019157792995, 2.7238364640748136, 2.2951496092152928, 3.474417339902898, 2.2151491669017753, 3.7822810391951487, 2.1929509726085827, 8.631847141755882, 10.331498072202038, 3.5366079929991887, 4.813013580700588, 4.127568440352272, 2.8563472224139175, 10.3933412862411, 2.125103654626657, 6.226624461562441, 2.1663743099385595, 4.171782880394712, 2.207650654509983, 1.7059552182222628, 3.616625270723824, 4.155874139671769, 19.060851753769462, 18.961993705804822, 62.76012836748539, 56.68035847921374, 8.773671101930088, 3.6297488788555676, 4.761722105974615, 5.010289726489406, 19.042289231264558, 11.158544079980416, 6.627555406485804, 5.36045332651856, 5.361610489280916, 10.166139090030521, 10.844600266796402, 10.199016545473453, 3.350765999180328, 11.137847341472476, 9.667478484792545, 24.250786789124128, 12.915535751841324, 1.8415059774354496, 12.864870068325574, 11.058468751204293, 1.4857071316679877, 1.1804052228839907, 8.54832481142951, 1.3000422467883768, 0.8594333924525225, 0.7709887649000765, 0.7705313752300873, 1.0045211544666381, 0.7306788838653383, 1.2638138802677072, 0.7217479089837062, 0.5385247146056041, 0.7600238763449321, 0.4741966548671972, 11.004837380731217, 24.520311309203084, 1.1448333882027004, 0.780943758561221, 0.7717638364742655, 11.977135799010707, 6.931100537383879, 5.1060347559042825, 4.417150317191033, 3.6056516581100566, 3.383946519742071, 6.058388325470265, 2.6337584168605725, 9.23496967073227, 1.782121655523199, 1.7588516707641093, 3.72927683407282, 4.307574143017746, 4.0645237846046625, 1.4420795060534406, 2.6435105837527213, 3.898035621836988, 6.030061511722414, 6.8204930597138125, 0.9778096935651427, 0.979659853377391, 0.9755829268424322, 11.279013385499413, 1.6828696255842053, 0.9298230475059008, 0.9282280945601569, 0.8969885994108675, 0.918268219778757, 0.9304557653394807, 1.8119497984178332, 4.198279367761086, 10.604010102907527, 2.0798522214520827, 12.786406381590925, 1.7829386215364138, 10.10683116827593, 3.458074798288539, 2.526064990040765, 5.206642066070305, 5.758715048028139, 4.409452252646175, 9.77447185225559, 5.256982552396939, 2.665803518895783, 2.6676754662580726, 5.2066513601326685, 5.286388311475912, 5.191538207388716, 3.564298807501959, 2.5373567571803948, 3.49812076196378, 3.357770786434685, 5.204941551703758, 3.2081273204376934, 1.7653124303719663, 1.7282376590175728, 1.7022147439522797, 4.411377820147329, 2.1774285516696743, 2.207607152727268, 2.6671081876943066, 1.7624397987635525, 1.7958190726034118, 0.9205289558520724, 1.5355865714138608, 1.859313435876421, 0.9230819636400135, 4.411260430788109, 4.412140868591316, 10.808647981673666, 5.627056467690169, 5.129701397350174, 8.095016721284976, 7.169069835121475, 2.585768664011056, 2.9359157924874, 8.006216161584208, 7.604617159130157, 7.550190372132195, 12.8740893273277, 8.715245660912519, 7.117730521486749, 2.572304506730884, 25.182115552546595, 7.376388956316549, 1.6723098766060696, 1.5950156281435899, 1.3193015692142556, 1.318298501350409, 1.3191807269160774, 6.903302089714299, 1.348236166043272, 1.5944502475380038, 0.9691086573009166, 1.524587430991601, 0.9225571990166503, 1.2165930830815161, 0.8165209298331239, 0.7265804336614234, 1.3227510158908793, 0.6003946356595932, 0.6475083613823283, 0.4653687942874011, 0.47048200429511333, 0.4661207748998948, 0.7144937625982994, 9.012473812185037, 0.7591468975351185, 0.6328033397382973, 3.4786525450825194, 3.477962778947357, 3.480970058225686, 3.478988006175721, 2.655423630684512, 5.971409610069122, 4.9539240902777015, 5.342182228010597, 2.627790935460307, 5.070516909134927, 1.60024980644883, 5.3887376462718, 3.0178854258765493, 2.766903636523063, 1.7083999314227167, 3.247618437159676, 1.158646214562732, 4.211558321670657, 0.8485820271637621, 0.8809457978145138, 0.8937280331626549, 0.8241794753057103, 0.8808690258641632, 0.8936414678286061, 0.8929848773062854, 0.8924651004637788, 3.158093706895496, 0.8872461204321549, 0.8820634996990865, 0.897767084556916, 3.461908427397331, 6.765953794243913, 7.447419657368044, 0.8967804169830296, 0.8998708198227363, 0.8970722850462558, 0.8970081888978167, 0.9041342726259972, 0.8967164419425325, 0.8941335764275367, 4.795234457488853, 6.558668599346338, 2.3926202035810524, 3.5130511190545284, 3.8948420922228326, 1.6273554769005347, 1.6626267298554294, 3.925902468499606, 1.7221100362765895, 4.6165456839424435, 5.017237479428012, 2.3536916918864055, 2.4249659021613605, 0.9452147600748815, 0.8811543278240822, 0.923777183787154, 0.9246515958862991, 1.729549601874797, 0.7587575295287953, 1.1891595228042398, 1.6803982903773884, 0.8707704042335639, 0.8829310503119538, 0.8334490515757481, 0.9821984675550823, 0.8814876504160115, 0.4923686388005929, 1.5683863274236611, 0.5951539603735676, 1.6058439968567468, 1.1371869793338332, 3.577724880981006, 7.577340795454361, 4.6335620371992166, 1.5706993302041108, 0.9222134521689381, 8.330494847975354, 5.808323444805871, 3.0457546915741025, 5.183177860587595, 2.34540732318166, 3.2631212744312665, 2.9674160091131427, 3.2490323263138303, 2.3002612618077, 1.672843379118135, 0.8085412068068665, 0.8967823150936518, 0.7998669460753582, 1.6779607716653533, 0.8028809592870038, 0.8864882710733262, 0.36263399032277743, 0.8007142479545813, 0.4651041037731365, 1.6737646730529763, 0.1151149307163225, 0.11468592739075059, 0.11375128335086215, 0.11393515444609889, 0.11368073876344782, 0.11331730584790736, 0.11534631241876653, 0.1150099928058199, 0.11509245085071199, 0.11177171055156276, 0.21714501097577096, 1.906548529053348, 0.1364482294265736, 0.1315293268270929, 0.1363909050099401, 0.15551069566708134, 0.14867515601917797, 0.1553336932455412, 0.14250367104752623, 0.1279040221676417, 0.17923377651829758], \"Total\": [149.0, 38.0, 328.0, 285.0, 39.0, 76.0, 39.0, 63.0, 20.0, 30.0, 14.0, 24.0, 32.0, 9.0, 13.0, 53.0, 14.0, 19.0, 15.0, 28.0, 14.0, 21.0, 11.0, 10.0, 12.0, 14.0, 12.0, 14.0, 28.0, 15.0, 24.436669099653486, 21.277919678277705, 26.00066502595254, 14.15837936827487, 11.225299986089615, 24.46508428885309, 19.241949185153743, 12.642395396949013, 8.154418523243, 149.37433270276512, 7.16402102267466, 6.690313786260615, 6.734053337109715, 10.419250568845232, 6.695839111487337, 6.0465740887799155, 5.996299665956922, 5.832017746021055, 9.488888416606795, 5.160973646349272, 5.048282751857988, 8.865382124929816, 4.996668367856583, 4.980918180761242, 4.363869444628628, 4.3213550174709825, 4.302928760388652, 26.02862318062767, 4.207875798625372, 4.20247888842688, 6.722087409429465, 9.532356560415048, 12.479176053147091, 76.51141981963492, 10.363213982484694, 19.860779070506084, 30.926972178781593, 328.1713584020076, 15.298491363462754, 285.9688631055795, 11.011565641049767, 15.49989217612945, 32.18368287112387, 29.400729774929825, 38.087389964191466, 28.94443503108214, 53.66868021492505, 14.62117512107392, 17.439958088292677, 13.344369909019818, 12.236626927613832, 11.696499466729001, 11.596060058244946, 12.844344000145808, 11.102670628916423, 10.510768500653729, 10.523230765427284, 10.479239792853065, 10.539053878633693, 19.335778930134893, 7.542360234824504, 11.23401408749723, 7.0633306106393805, 15.54197775875199, 13.767259280448396, 7.032150569207805, 4.555048643730081, 4.582376269594833, 16.88708282892433, 18.031330406212646, 3.5372904787407085, 4.001564574722331, 3.4209158321122835, 3.462275548327369, 3.4241038888299262, 3.8390895653770576, 5.782343449137404, 28.94443503108214, 14.024337403491533, 285.9688631055795, 63.81501337971777, 53.66868021492505, 328.1713584020076, 39.73500121172336, 24.508889464407087, 29.400729774929825, 39.97878395548366, 76.51141981963492, 28.15918867739303, 19.144451713692476, 14.102741724031079, 14.99512703444791, 12.940738703074754, 7.58302586969508, 5.957915476213413, 4.535928761267535, 4.717994542782637, 4.729138783780603, 4.730815702663016, 19.055649164512214, 3.8837622406258405, 3.299223104536547, 5.013036797851447, 3.224428783306568, 5.543298504768945, 3.2697084613389267, 12.907876062914381, 15.617227136689644, 5.52159411900653, 7.631552946406557, 6.658780545119812, 4.614301605479657, 18.210881243700502, 3.8944874184051215, 11.461311423371914, 3.9942514534384794, 7.73420055460572, 4.102861818282328, 3.1720493556206977, 6.998494529540365, 8.608484548694332, 53.66868021492505, 63.81501337971777, 328.1713584020076, 285.9688631055795, 28.15918867739303, 8.318871681237772, 21.785972099047243, 26.02862318062767, 20.189630258717138, 12.238024297483076, 7.687207176253885, 6.381577048933481, 6.38353240552456, 13.16476842079297, 14.186454646724275, 13.36029664240546, 4.41152747487532, 14.986773652251069, 15.265884267375553, 39.97878395548366, 24.508889464407087, 3.6485952811771387, 32.18368287112387, 30.926972178781593, 4.758093034109465, 3.7917372382080106, 28.15918867739303, 4.831013674803776, 3.2419153558218876, 2.91302239076688, 3.0502439866888174, 4.042345606071624, 3.1401109583598203, 5.585464584046417, 3.269967664885618, 3.231472828019908, 4.69894944602529, 3.1720493556206977, 76.51141981963492, 285.9688631055795, 13.82476575096642, 11.506848762071817, 11.23401408749723, 13.040971248434868, 8.007097812867654, 6.180461914270974, 5.43515867414646, 4.583500433420248, 4.448015535959124, 7.977006784919515, 3.6080806055199264, 14.729755388692846, 3.32648064155156, 3.539379660612584, 7.55782104394608, 9.591980193640735, 9.190238580782237, 3.283646873464286, 6.758809162839579, 11.401023132859851, 18.593663967171906, 21.785972099047243, 3.1877794721746997, 3.2360082787011857, 3.347899796497203, 39.73500121172336, 6.062464768712868, 3.3944249398492663, 3.4124862414423, 3.350976990267459, 3.5390812947328896, 3.6483347098553245, 7.552431691828444, 18.031330406212646, 63.81501337971777, 10.533400175089572, 328.1713584020076, 11.011565641049767, 285.9688631055795, 53.66868021492505, 32.18368287112387, 6.18383691986323, 6.85909289336464, 5.38637225503438, 12.051729574089368, 7.035858504043753, 3.637194043684465, 3.644213647187488, 7.711502109223015, 7.85920297045455, 7.737971623866522, 5.31282414649505, 4.305376989278124, 5.955682018492169, 5.8561784706234645, 9.12507884870295, 5.77433406557022, 3.551519182931841, 3.571924858553451, 3.6271503968139305, 9.591980193640735, 4.788264215570158, 5.692948493889251, 6.905139940996409, 4.674068478091056, 5.080397495047513, 2.7531955963355137, 4.831013674803776, 6.062464768712868, 3.073364039134196, 14.729755388692846, 15.617227136689644, 39.73500121172336, 21.785972099047243, 63.81501337971777, 328.1713584020076, 285.9688631055795, 29.400729774929825, 149.37433270276512, 9.046196119986208, 8.65965605418436, 8.638979044089945, 14.803224709459824, 10.106596705566513, 8.774405815542474, 3.626994256308239, 38.087389964191466, 11.913464586162196, 2.7971652029943934, 2.805614537310537, 2.3657992232164773, 2.368245382207214, 2.3698750140899127, 14.6852548850204, 3.0152164836926842, 3.6331672900354013, 2.416083313369953, 4.155750093300768, 2.7531955963355137, 3.6680198481133743, 2.577592664211225, 2.5663913567180843, 5.43393219005568, 2.7488227763752446, 3.7673005016787124, 2.954996669239464, 3.2040135744591987, 3.1835138166444104, 6.753949069196383, 285.9688631055795, 11.461311423371914, 7.856844434455374, 4.4545214886188775, 4.455554194934369, 4.460477577406831, 4.460443900648115, 3.6292716844804165, 8.392067918428618, 8.257037052624932, 9.752949819042826, 5.034939810763593, 10.048885273606691, 3.385672091123574, 11.506848762071817, 6.488454870777295, 6.450695768180367, 4.886865213035333, 10.542272454724726, 3.7917372382080106, 14.024337403491533, 3.042622242827066, 3.2715604676609202, 3.449654975109693, 3.2419153558218876, 3.550900862675027, 3.6967392892238427, 3.8944874184051215, 3.9942514534384794, 14.642317749347274, 4.155750093300768, 4.156907015336413, 4.305376989278124, 29.400729774929825, 149.37433270276512, 328.1713584020076, 4.864418865565364, 5.31282414649505, 5.525387436555218, 5.955682018492169, 15.49989217612945, 7.55782104394608, 9.532356560415048, 5.800754799454115, 8.636340361532742, 3.3794259893688596, 5.831875464300992, 7.410001295393094, 3.807230253728514, 4.071155307038312, 10.048885273606691, 4.706786654658471, 13.82476575096642, 15.49989217612945, 8.232136096702927, 8.576119156244827, 3.350976990267459, 3.269967664885618, 3.5411684034860356, 3.551519182931841, 6.671598493659598, 3.3401654634534617, 5.77433406557022, 8.19376301854134, 4.249139451923283, 4.674068478091056, 4.8686411198746775, 5.807648158403969, 5.41669487749899, 3.1091476261444426, 10.363213982484694, 4.125553115453453, 11.401023132859851, 8.11456155276913, 39.97878395548366, 149.37433270276512, 76.51141981963492, 285.9688631055795, 8.257037052624932, 9.552907298003621, 7.3633200159969725, 4.091273651528887, 6.96980354070689, 3.3903727226235736, 5.184684578187742, 6.758809162839579, 7.856844434455374, 5.583364121121979, 5.063542737539837, 3.128297253591006, 3.477004147111744, 3.199557084661207, 7.73420055460572, 4.557467497550725, 5.729994555631175, 3.361010350551607, 7.849774945188959, 5.053768343052424, 28.94443503108214, 2.368245382207214, 2.3657992232164773, 2.3698750140899127, 2.416083313369953, 2.5663913567180843, 2.577592664211225, 2.7488227763752446, 2.7531955963355137, 2.7730766089207424, 2.777417865980114, 5.585464584046417, 149.37433270276512, 3.9942514534384794, 4.042345606071624, 4.535928761267535, 13.36029664240546, 10.542272454724726, 14.6852548850204, 9.532356560415048, 6.790135042907742, 328.1713584020076], \"Category\": [\"Default\", \"Default\", \"Default\", \"Default\", \"Default\", \"Default\", \"Default\", \"Default\", \"Default\", \"Default\", \"Default\", \"Default\", \"Default\", \"Default\", \"Default\", \"Default\", \"Default\", \"Default\", \"Default\", \"Default\", \"Default\", \"Default\", \"Default\", \"Default\", \"Default\", \"Default\", \"Default\", \"Default\", \"Default\", \"Default\", \"Topic1\", \"Topic1\", \"Topic1\", \"Topic1\", \"Topic1\", \"Topic1\", \"Topic1\", \"Topic1\", \"Topic1\", \"Topic1\", \"Topic1\", \"Topic1\", \"Topic1\", \"Topic1\", \"Topic1\", \"Topic1\", \"Topic1\", \"Topic1\", \"Topic1\", \"Topic1\", \"Topic1\", \"Topic1\", \"Topic1\", \"Topic1\", \"Topic1\", \"Topic1\", \"Topic1\", \"Topic1\", \"Topic1\", \"Topic1\", \"Topic1\", \"Topic1\", \"Topic1\", \"Topic1\", \"Topic1\", \"Topic1\", \"Topic1\", \"Topic1\", \"Topic1\", \"Topic1\", \"Topic1\", \"Topic1\", \"Topic1\", \"Topic1\", \"Topic1\", \"Topic1\", \"Topic1\", \"Topic2\", \"Topic2\", \"Topic2\", \"Topic2\", \"Topic2\", \"Topic2\", \"Topic2\", \"Topic2\", \"Topic2\", \"Topic2\", \"Topic2\", \"Topic2\", \"Topic2\", \"Topic2\", \"Topic2\", \"Topic2\", \"Topic2\", \"Topic2\", \"Topic2\", \"Topic2\", \"Topic2\", \"Topic2\", \"Topic2\", \"Topic2\", \"Topic2\", \"Topic2\", \"Topic2\", \"Topic2\", \"Topic2\", \"Topic2\", \"Topic2\", \"Topic2\", \"Topic2\", \"Topic2\", \"Topic2\", \"Topic2\", \"Topic2\", \"Topic2\", \"Topic2\", \"Topic2\", \"Topic2\", \"Topic2\", \"Topic3\", \"Topic3\", \"Topic3\", \"Topic3\", \"Topic3\", \"Topic3\", \"Topic3\", \"Topic3\", \"Topic3\", \"Topic3\", \"Topic3\", \"Topic3\", \"Topic3\", \"Topic3\", \"Topic3\", \"Topic3\", \"Topic3\", \"Topic3\", \"Topic3\", \"Topic3\", \"Topic3\", \"Topic3\", \"Topic3\", \"Topic3\", \"Topic3\", \"Topic3\", \"Topic3\", \"Topic3\", \"Topic3\", \"Topic3\", \"Topic3\", \"Topic3\", \"Topic3\", \"Topic3\", \"Topic3\", \"Topic3\", \"Topic3\", \"Topic3\", \"Topic3\", \"Topic3\", \"Topic4\", \"Topic4\", \"Topic4\", \"Topic4\", \"Topic4\", \"Topic4\", \"Topic4\", \"Topic4\", \"Topic4\", \"Topic4\", \"Topic4\", \"Topic4\", \"Topic4\", \"Topic4\", \"Topic4\", \"Topic4\", \"Topic4\", \"Topic4\", \"Topic4\", \"Topic4\", \"Topic4\", \"Topic4\", \"Topic4\", \"Topic4\", \"Topic4\", \"Topic4\", \"Topic4\", \"Topic4\", \"Topic4\", \"Topic4\", \"Topic4\", \"Topic4\", \"Topic4\", \"Topic4\", \"Topic4\", \"Topic5\", \"Topic5\", \"Topic5\", \"Topic5\", \"Topic5\", \"Topic5\", \"Topic5\", \"Topic5\", \"Topic5\", \"Topic5\", \"Topic5\", \"Topic5\", \"Topic5\", \"Topic5\", \"Topic5\", \"Topic5\", \"Topic5\", \"Topic5\", \"Topic5\", \"Topic5\", \"Topic5\", \"Topic5\", \"Topic5\", \"Topic5\", \"Topic5\", \"Topic5\", \"Topic5\", \"Topic5\", \"Topic5\", \"Topic5\", \"Topic5\", \"Topic5\", \"Topic5\", \"Topic5\", \"Topic5\", \"Topic5\", \"Topic5\", \"Topic5\", \"Topic6\", \"Topic6\", \"Topic6\", \"Topic6\", \"Topic6\", \"Topic6\", \"Topic6\", \"Topic6\", \"Topic6\", \"Topic6\", \"Topic6\", \"Topic6\", \"Topic6\", \"Topic6\", \"Topic6\", \"Topic6\", \"Topic6\", \"Topic6\", \"Topic6\", \"Topic6\", \"Topic6\", \"Topic6\", \"Topic6\", \"Topic6\", \"Topic6\", \"Topic6\", \"Topic6\", \"Topic6\", \"Topic6\", \"Topic6\", \"Topic6\", \"Topic6\", \"Topic6\", \"Topic6\", \"Topic6\", \"Topic6\", \"Topic6\", \"Topic6\", \"Topic7\", \"Topic7\", \"Topic7\", \"Topic7\", \"Topic7\", \"Topic7\", \"Topic7\", \"Topic7\", \"Topic7\", \"Topic7\", \"Topic7\", \"Topic7\", \"Topic7\", \"Topic7\", \"Topic7\", \"Topic7\", \"Topic7\", \"Topic7\", \"Topic7\", \"Topic7\", \"Topic7\", \"Topic7\", \"Topic7\", \"Topic7\", \"Topic7\", \"Topic7\", \"Topic7\", \"Topic7\", \"Topic7\", \"Topic7\", \"Topic7\", \"Topic7\", \"Topic7\", \"Topic8\", \"Topic8\", \"Topic8\", \"Topic8\", \"Topic8\", \"Topic8\", \"Topic8\", \"Topic8\", \"Topic8\", \"Topic8\", \"Topic8\", \"Topic8\", \"Topic8\", \"Topic8\", \"Topic8\", \"Topic8\", \"Topic8\", \"Topic8\", \"Topic8\", \"Topic8\", \"Topic8\", \"Topic8\", \"Topic8\", \"Topic8\", \"Topic8\", \"Topic8\", \"Topic8\", \"Topic8\", \"Topic8\", \"Topic8\", \"Topic8\", \"Topic8\", \"Topic8\", \"Topic8\", \"Topic8\", \"Topic8\", \"Topic8\", \"Topic8\", \"Topic8\", \"Topic8\", \"Topic9\", \"Topic9\", \"Topic9\", \"Topic9\", \"Topic9\", \"Topic9\", \"Topic9\", \"Topic9\", \"Topic9\", \"Topic9\", \"Topic9\", \"Topic9\", \"Topic9\", \"Topic9\", \"Topic9\", \"Topic9\", \"Topic9\", \"Topic9\", \"Topic9\", \"Topic9\", \"Topic9\", \"Topic9\", \"Topic9\", \"Topic9\", \"Topic9\", \"Topic9\", \"Topic9\", \"Topic9\", \"Topic9\", \"Topic9\", \"Topic9\", \"Topic9\", \"Topic9\", \"Topic9\", \"Topic9\", \"Topic9\", \"Topic10\", \"Topic10\", \"Topic10\", \"Topic10\", \"Topic10\", \"Topic10\", \"Topic10\", \"Topic10\", \"Topic10\", \"Topic10\", \"Topic10\", \"Topic10\", \"Topic10\", \"Topic10\", \"Topic10\", \"Topic10\", \"Topic10\", \"Topic10\", \"Topic10\", \"Topic10\", \"Topic10\", \"Topic10\", \"Topic10\", \"Topic10\", \"Topic10\", \"Topic10\", \"Topic10\", \"Topic10\", \"Topic10\", \"Topic10\", \"Topic10\", \"Topic10\", \"Topic10\", \"Topic10\", \"Topic10\", \"Topic10\", \"Topic10\", \"Topic10\", \"Topic10\", \"Topic10\", \"Topic10\"], \"logprob\": [30.0, 29.0, 28.0, 27.0, 26.0, 25.0, 24.0, 23.0, 22.0, 21.0, 20.0, 19.0, 18.0, 17.0, 16.0, 15.0, 14.0, 13.0, 12.0, 11.0, 10.0, 9.0, 8.0, 7.0, 6.0, 5.0, 4.0, 3.0, 2.0, 1.0, -3.9209, -4.0679, -3.8736, -4.4944, -4.7712, -3.9934, -4.2441, -4.6661, -5.107, -2.2083, -5.2557, -5.3315, -5.3263, -4.9032, -5.3492, -5.4517, -5.4632, -5.495, -5.0316, -5.6461, -5.6705, -5.1098, -5.6862, -5.6933, -5.8555, -5.8685, -5.8773, -4.0796, -5.9078, -5.91, -5.4569, -5.1261, -4.892, -3.2428, -5.0871, -4.5261, -4.1489, -2.149, -4.818, -2.9595, -5.19, -5.0557, -4.7613, -4.809, -4.9258, -5.0411, -5.2014, -4.2092, -4.0377, -4.3126, -4.4037, -4.4508, -4.4634, -4.3612, -4.5116, -4.5668, -4.5678, -4.5726, -4.5724, -4.0099, -4.9581, -4.5673, -5.0416, -4.2674, -4.4035, -5.0773, -5.5533, -5.5684, -4.2722, -4.2584, -5.8973, -5.7811, -5.9419, -5.9302, -5.9467, -5.8339, -5.4262, -3.8834, -4.6293, -2.069, -3.4699, -3.6423, -2.223, -4.0005, -4.4874, -4.4417, -4.4173, -4.1972, -4.6197, -3.3271, -3.6672, -3.6388, -3.8185, -4.3538, -4.6376, -4.9695, -4.9477, -4.9471, -4.9469, -3.5917, -5.2177, -5.3889, -4.9743, -5.4244, -4.8894, -5.4345, -4.0642, -3.8845, -4.9565, -4.6484, -4.802, -5.1702, -3.8785, -5.4659, -4.3909, -5.4466, -4.7914, -5.4278, -5.6856, -4.9342, -4.7952, -3.2721, -3.2773, -2.0804, -2.1823, -4.0479, -4.9305, -4.6591, -4.6082, -2.6398, -3.1742, -3.6952, -3.9074, -3.9072, -3.2674, -3.2027, -3.2641, -4.3772, -3.1761, -3.3176, -2.398, -3.028, -4.9758, -3.0319, -3.1832, -5.1905, -5.4206, -3.4407, -5.324, -5.7379, -5.8465, -5.8471, -5.5819, -5.9002, -5.3523, -5.9125, -6.2053, -5.8608, -6.3325, -3.1881, -2.3869, -5.4512, -5.8337, -5.8455, -2.9103, -3.4573, -3.7629, -3.9078, -4.1108, -4.1742, -3.5918, -4.4249, -3.1703, -4.8155, -4.8286, -4.0771, -3.9329, -3.991, -5.0272, -4.4212, -4.0328, -3.5965, -3.4733, -5.4157, -5.4138, -5.418, -2.9703, -4.8728, -5.466, -5.4678, -5.502, -5.4785, -5.4654, -4.7989, -3.9586, -3.032, -4.661, -2.8449, -4.815, -3.0801, -4.1526, -4.4666, -3.7366, -3.6358, -3.9028, -3.1068, -3.727, -4.4061, -4.4054, -3.7366, -3.7214, -3.7395, -4.1156, -4.4554, -4.1343, -4.1753, -3.737, -4.2209, -4.8182, -4.8395, -4.8546, -3.9024, -4.6084, -4.5946, -4.4056, -4.8199, -4.8011, -5.4694, -4.9576, -4.7664, -5.4666, -3.9024, -3.9022, -3.0062, -3.659, -3.7515, -3.2953, -3.4168, -4.4365, -4.3095, -2.9463, -2.9977, -3.0049, -2.4713, -2.8614, -3.0639, -4.0817, -1.8004, -3.0282, -4.5123, -4.5596, -4.7494, -4.7502, -4.7495, -3.0945, -4.7277, -4.56, -5.0579, -4.6048, -5.1071, -4.8304, -5.2292, -5.3459, -4.7468, -5.5367, -5.4611, -5.7914, -5.7805, -5.7898, -5.3627, -2.8279, -5.3021, -5.4841, -3.7683, -3.7685, -3.7676, -3.7682, -4.0383, -3.228, -3.4148, -3.3393, -4.0488, -3.3915, -4.5448, -3.3306, -3.9104, -3.9972, -4.4794, -3.837, -4.8677, -3.5771, -5.1791, -5.1417, -5.1273, -5.2083, -5.1418, -5.1274, -5.1281, -5.1287, -3.865, -5.1346, -5.1404, -5.1228, -3.7731, -3.103, -3.0071, -5.1239, -5.1204, -5.1236, -5.1236, -5.1157, -5.124, -5.1268, -3.3362, -3.023, -4.0314, -3.6473, -3.5441, -4.4168, -4.3954, -3.5362, -4.3602, -3.3741, -3.2909, -4.0478, -4.018, -4.9601, -5.0303, -4.9831, -4.9821, -4.3559, -5.1799, -4.7305, -4.3848, -5.0422, -5.0283, -5.086, -4.9217, -5.0299, -5.6123, -4.4537, -5.4227, -4.4301, -4.7752, -3.6291, -2.8786, -3.3705, -4.4523, -4.9848, -2.4266, -2.7872, -3.4328, -2.9011, -3.6941, -3.3638, -3.4588, -3.3682, -3.7135, -4.032, -4.759, -4.6555, -4.7698, -4.0289, -4.7661, -4.667, -5.5609, -4.7688, -5.312, -4.0314, -6.7083, -6.7121, -6.7203, -6.7186, -6.7209, -6.7241, -6.7063, -6.7093, -6.7085, -6.7378, -6.0737, -3.9012, -6.5383, -6.575, -6.5387, -6.4076, -6.4525, -6.4087, -6.4949, -6.603, -6.2656], \"loglift\": [30.0, 29.0, 28.0, 27.0, 26.0, 25.0, 24.0, 23.0, 22.0, 21.0, 20.0, 19.0, 18.0, 17.0, 16.0, 15.0, 14.0, 13.0, 12.0, 11.0, 10.0, 9.0, 8.0, 7.0, 6.0, 5.0, 4.0, 3.0, 2.0, 1.0, 1.1342, 1.1256, 1.1194, 1.1065, 1.0617, 1.0605, 1.05, 1.0479, 1.0456, 1.0364, 1.0264, 1.019, 1.0176, 1.0043, 1.0005, 1.0, 0.9968, 0.9928, 0.9695, 0.964, 0.9616, 0.9592, 0.9561, 0.9522, 0.9222, 0.919, 0.9145, 0.9123, 0.9064, 0.9055, 0.8889, 0.8703, 0.8351, 0.6709, 0.8258, 0.7363, 0.6706, 0.3086, 0.7054, -0.3642, 0.6622, 0.4546, 0.0184, 0.0612, -0.3145, -0.1553, -0.9331, 1.3594, 1.3547, 1.3474, 1.343, 1.3411, 1.337, 1.337, 1.3323, 1.332, 1.3298, 1.3292, 1.3237, 1.2793, 1.2725, 1.2649, 1.2547, 1.2402, 1.2253, 1.2234, 1.1816, 1.1605, 1.1524, 1.1006, 1.0905, 1.0833, 1.0793, 1.079, 1.0737, 1.072, 1.0701, 1.0023, 0.981, 0.5263, 0.6253, 0.626, 0.2346, 0.5684, 0.5647, 0.4284, 0.1455, -0.2835, 0.2936, 1.972, 1.9375, 1.9046, 1.8723, 1.8714, 1.8288, 1.7696, 1.7521, 1.7503, 1.7501, 1.7121, 1.6767, 1.6685, 1.6648, 1.656, 1.6492, 1.632, 1.6291, 1.6183, 1.5859, 1.5705, 1.5532, 1.5518, 1.4706, 1.4257, 1.4213, 1.4196, 1.4141, 1.4117, 1.4112, 1.3713, 1.3032, 0.9962, 0.8179, 0.3772, 0.413, 0.8653, 1.2021, 0.5108, 0.3837, 2.6062, 2.5724, 2.5164, 2.4904, 2.4903, 2.4062, 2.3961, 2.3947, 2.3897, 2.3679, 2.2079, 2.1648, 2.0241, 1.981, 1.7478, 1.6363, 1.5008, 1.4978, 1.4726, 1.3521, 1.3371, 1.3355, 1.2888, 1.2724, 1.2067, 1.1787, 1.1539, 0.8729, 0.843, 0.7642, 0.7256, 0.2083, 0.1735, -0.0255, -0.0133, 2.7728, 2.7136, 2.6669, 2.6505, 2.6179, 2.5845, 2.5827, 2.5431, 2.391, 2.2338, 2.1586, 2.1515, 2.0573, 2.042, 2.035, 1.9191, 1.7846, 1.7318, 1.6965, 1.6761, 1.663, 1.6248, 1.5986, 1.5763, 1.563, 1.5559, 1.5399, 1.5087, 1.4915, 1.4304, 1.4004, 1.0631, 1.2356, -0.3873, 1.0372, -0.4848, 0.1157, 0.3131, 2.6926, 2.6897, 2.6645, 2.6551, 2.5731, 2.5539, 2.5527, 2.4718, 2.468, 2.4655, 2.4654, 2.3358, 2.3325, 2.3084, 2.3032, 2.2768, 2.1655, 2.1386, 2.1081, 2.0878, 2.0766, 1.9173, 1.9133, 1.8893, 1.8247, 1.769, 1.7184, 1.6827, 1.6618, 1.6589, 1.6006, 1.5627, 1.5109, 0.3436, -0.8377, -0.8215, 0.4336, -1.0649, 3.1025, 3.0947, 3.0899, 3.085, 3.0765, 3.0154, 2.881, 2.8109, 2.7453, 2.7102, 2.6599, 2.6406, 2.6388, 2.6388, 2.4698, 2.4198, 2.4011, 2.3111, 2.2219, 2.1313, 2.121, 2.0751, 1.9627, 1.8117, 1.7033, 1.4637, 1.3762, 1.3062, 1.3033, 0.9783, -0.2326, 0.5101, 0.7057, 2.9889, 2.9885, 2.9883, 2.9877, 2.9238, 2.8959, 2.7253, 2.6343, 2.5859, 2.5522, 2.4868, 2.4776, 2.4707, 2.3897, 2.1852, 2.0587, 2.0506, 2.0332, 1.9593, 1.9242, 1.8856, 1.8667, 1.8421, 1.8163, 1.7634, 1.7376, 1.7022, 1.6921, 1.6859, 1.6685, 1.097, 0.1416, -0.5495, 1.5453, 1.4606, 1.4182, 1.3432, 0.3946, 1.1046, 0.8696, 3.157, 3.0722, 3.002, 2.8405, 2.7042, 2.4974, 2.4518, 2.4075, 2.3419, 2.2505, 2.2194, 2.0953, 2.0842, 2.0818, 2.0361, 2.0036, 2.0016, 1.9974, 1.8653, 1.7672, 1.763, 1.7623, 1.6808, 1.5824, 1.5702, 1.5317, 1.5045, 1.4591, 1.4112, 1.3873, 1.3823, 0.9337, 0.3661, 0.5432, -1.857, 1.1553, 3.5677, 3.4674, 3.4095, 3.4085, 3.3361, 3.2416, 2.8815, 2.8216, 2.8179, 2.5971, 2.3516, 2.3495, 2.3183, 2.1766, 1.9683, 1.8384, 1.478, 1.4219, 1.319, 0.8543, 0.6807, 0.678, 0.6681, 0.6504, 0.5878, 0.5802, 0.5336, 0.5291, 0.5227, 0.4918, 0.4573, -0.6565, 0.328, 0.2793, 0.2004, -0.7487, -0.5568, -0.8444, -0.4985, -0.2673, -3.808]}, \"token.table\": {\"Topic\": [2, 4, 6, 9, 1, 2, 5, 9, 1, 1, 3, 10, 1, 6, 2, 8, 4, 1, 2, 2, 8, 1, 6, 9, 6, 7, 3, 1, 2, 7, 1, 1, 2, 9, 6, 7, 1, 4, 1, 2, 8, 3, 6, 8, 2, 3, 1, 3, 10, 1, 2, 6, 7, 2, 6, 2, 1, 5, 7, 5, 10, 1, 1, 3, 7, 4, 10, 1, 3, 4, 9, 1, 1, 6, 1, 3, 5, 7, 3, 8, 1, 6, 9, 5, 6, 3, 6, 1, 2, 1, 9, 2, 2, 5, 9, 2, 3, 4, 8, 2, 3, 2, 3, 8, 1, 2, 8, 1, 6, 10, 10, 7, 2, 4, 2, 10, 3, 1, 9, 2, 2, 5, 2, 3, 5, 6, 2, 5, 3, 3, 3, 1, 2, 3, 4, 6, 5, 2, 3, 1, 2, 3, 7, 1, 2, 3, 5, 6, 2, 5, 1, 2, 3, 5, 1, 3, 8, 1, 5, 9, 1, 2, 9, 1, 1, 1, 2, 6, 2, 3, 8, 9, 2, 7, 7, 1, 2, 9, 1, 2, 7, 3, 4, 2, 8, 1, 7, 9, 1, 2, 10, 8, 1, 2, 4, 5, 3, 9, 2, 2, 3, 6, 3, 1, 3, 1, 4, 1, 3, 8, 1, 3, 8, 2, 3, 1, 10, 1, 4, 8, 1, 3, 1, 6, 6, 8, 2, 5, 6, 1, 3, 5, 3, 8, 7, 2, 2, 3, 4, 2, 6, 6, 1, 2, 3, 5, 6, 8, 5, 3, 7, 4, 1, 3, 9, 2, 7, 8, 1, 10, 1, 3, 4, 3, 5, 6, 2, 5, 6, 3, 1, 2, 9, 3, 7, 1, 3, 4, 9, 1, 3, 1, 2, 5, 8, 1, 2, 9, 1, 8, 1, 2, 5, 7, 1, 2, 1, 3, 1, 4, 9, 3, 2, 3, 1, 3, 4, 1, 3, 6, 8, 1, 1, 2, 1, 2, 8, 3, 5, 8, 9, 1, 2, 4, 2, 7, 3, 6, 9, 1, 4, 5, 6, 7, 3, 9, 4, 1, 2, 6, 8, 2, 5, 1, 2, 1, 4, 6, 2, 8, 2, 6, 1, 3, 6, 9, 7, 1, 2, 10, 1, 3, 5, 1, 3, 2, 1, 3, 3, 7, 1, 2, 8, 9, 5, 1, 5, 1, 2, 8, 1, 2, 5, 2, 4, 9, 1, 8, 1, 3, 2, 1, 2, 9, 1, 2, 3, 4, 5, 6, 7, 9, 1, 4, 2, 6, 9, 2, 3, 1, 2, 3, 1, 3, 1, 4, 2, 4, 8, 8, 2, 4, 1, 8, 9, 5, 6, 6, 1, 6, 2, 3, 10, 8, 1, 5, 6, 6, 10, 2, 3, 1, 2, 3, 5, 2, 7, 2, 7, 1, 2, 9, 1, 6, 2, 3, 5, 2, 3, 7, 2, 7, 1, 5, 1, 3, 8, 1, 2, 3, 5, 1, 2, 5, 8, 1, 4, 6, 1, 1, 2, 4, 1, 1, 5, 2, 2, 2, 9, 1, 5, 1, 1, 2, 10, 1, 8, 3, 6, 1, 4, 5, 2, 2, 1, 6, 1, 2, 5, 1, 2, 1, 6, 8, 9, 10, 4, 4, 7, 1, 9, 3, 2, 3, 5, 2, 1, 2, 7, 10, 1, 8, 10, 1, 2, 6, 8, 1, 2, 9, 2, 5, 1, 2, 6, 2, 1, 2, 4, 1, 3, 10, 1, 2, 1, 2, 3, 6, 8, 1, 2, 9, 2, 2, 5, 9, 2, 9, 1, 1, 4, 1, 2, 4, 9, 1, 1, 9, 1, 3, 8, 1, 5, 1, 2, 10, 2, 4, 8, 4, 1, 9, 1, 2, 3, 1, 3, 2, 1, 2, 7], \"Freq\": [0.7212206087513691, 0.17318014313763974, 0.5195404294129192, 0.17318014313763974, 0.3508457051079269, 0.08771142627698172, 0.3508457051079269, 0.17542285255396345, 0.8030647874221201, 0.1292958455033209, 0.5171833820132836, 0.2585916910066418, 0.2799610964954558, 0.5599221929909116, 0.5410173246001112, 0.2705086623000556, 0.8988378951218708, 0.32163155959244977, 0.32163155959244977, 0.3082397951178794, 0.4623596926768191, 0.2699054858793924, 0.1349527429396962, 0.5398109717587848, 0.8248116443523619, 0.7128563006082799, 0.606203320184661, 0.23629868070407317, 0.07876622690135772, 0.6563852241779811, 0.8005334165725064, 0.24647049467724982, 0.49294098935449965, 0.12323524733862491, 0.3632142959007322, 0.3632142959007322, 0.6143504734367607, 0.35567658988444045, 0.40977119215074187, 0.27318079476716123, 0.20488559607537093, 0.1679068823511795, 0.5037206470535386, 0.1679068823511795, 0.6917610541789437, 0.17294026354473593, 0.8338475857680593, 0.31966271710659505, 0.31966271710659505, 0.27238206155210654, 0.13619103077605327, 0.06809551538802663, 0.47666860771618647, 0.7200933012268308, 0.8085594857683579, 0.7814352723248732, 0.8968189223533493, 0.8726954558211234, 0.42196318120347087, 0.4438651732459346, 0.4438651732459346, 0.8573362115386726, 0.26175015137293955, 0.5235003027458791, 0.08725005045764653, 0.1358083035678849, 0.8148498214073094, 0.3616697808894501, 0.2170018685336701, 0.07233395617789003, 0.3616697808894501, 0.837518480335213, 0.4344589719592419, 0.4344589719592419, 0.29460071078914657, 0.29460071078914657, 0.29460071078914657, 0.4222535415937331, 0.5007196024872911, 0.25035980124364554, 0.0829756421144689, 0.829756421144689, 0.0829756421144689, 0.14212906632861722, 0.7106453316430861, 0.6403185349406195, 0.25612741397624783, 0.7438165699818494, 0.14876331399636988, 0.5995564636872901, 0.29977823184364505, 0.654682161285122, 0.4859006159533793, 0.12147515398834483, 0.24295030797668965, 0.917433397431195, 0.3084596265612496, 0.3084596265612496, 0.3084596265612496, 0.20991150526896216, 0.7346902684413675, 0.4111488042606198, 0.2055744021303099, 0.2055744021303099, 0.1809827838287203, 0.5429483514861609, 0.1809827838287203, 0.3513118030396337, 0.3513118030396337, 0.5899056427201134, 0.7332679882898853, 0.8843496088179212, 0.3432860671341221, 0.3432860671341221, 0.14347606703109142, 0.7173803351554571, 0.6305072134064086, 0.7895880743048531, 0.11279829632926473, 0.8989405385218379, 0.9404523149246309, 0.8090010211784928, 0.4387682226655961, 0.2977355796659402, 0.17237323033291274, 0.07835146833314216, 0.30453944609000794, 0.30453944609000794, 0.8455201494635198, 0.8458199648778949, 0.8392196935257259, 0.7129487997198111, 0.3196114811086673, 0.3196114811086673, 0.3196114811086673, 0.03551238678985192, 0.9201768619373498, 0.8364443831918011, 0.1286837512602771, 0.14806152515434717, 0.14806152515434717, 0.4441845754630415, 0.14806152515434717, 0.04590109614818302, 0.13770328844454904, 0.22950548074091506, 0.3213076730372811, 0.2754065768890981, 0.720967322273729, 0.22183609916114735, 0.16134528435582454, 0.3226905687116491, 0.16134528435582454, 0.3226905687116491, 0.10253308163725813, 0.3075992449117744, 0.5126654081862907, 0.17147142563680584, 0.17147142563680584, 0.6858857025472234, 0.29938636601735313, 0.29938636601735313, 0.29938636601735313, 0.6282366325986625, 0.896078878255369, 0.7923486453938868, 0.3287642824507126, 0.5479404707511877, 0.1994798842148123, 0.5984396526444369, 0.49756762704142476, 0.3980541016331398, 0.8781464947703483, 0.41389301207713736, 0.8905074835966273, 0.6754661258400141, 0.09649516083428772, 0.19299032166857544, 0.775047553833081, 0.27262665999867597, 0.27262665999867597, 0.6369201682747745, 0.31846008413738724, 0.6417415483571679, 0.28521846593651906, 0.251815916210015, 0.5875704711567016, 0.08393863873667165, 0.31254325943863803, 0.31254325943863803, 0.31254325943863803, 0.6733169138444719, 0.31071645964335204, 0.18642987578601122, 0.40393139753635765, 0.09321493789300561, 0.24563052121130718, 0.49126104242261437, 0.8562646964815404, 0.15017764787771767, 0.6007105915108707, 0.15017764787771767, 0.7724468734513912, 0.721201460871314, 0.24040048695710464, 0.5371084096690548, 0.17903613655635162, 0.3056645322270243, 0.3056645322270243, 0.3056645322270243, 0.24373231278323973, 0.48746462556647946, 0.6725787986177993, 0.8588409252871645, 0.9402201885534313, 0.5752078270200935, 0.28760391351004677, 0.34761906432494005, 0.08690476608123501, 0.4345238304061751, 0.46465785904287754, 0.46465785904287754, 0.3415196463073426, 0.5122794694610139, 0.7528952379571721, 0.18822380948929301, 0.7955069518288008, 0.41701503956940084, 0.41701503956940084, 0.29304147452836216, 0.29304147452836216, 0.29304147452836216, 0.5135464016517594, 0.2567732008258797, 0.9260353519983267, 0.9575153764365627, 0.32784262647970885, 0.32784262647970885, 0.32784262647970885, 0.9485980535413716, 0.8232228651894008, 0.8747512379959586, 0.4174648289451755, 0.30167166471220713, 0.1919728775441318, 0.039613450921804974, 0.024377508259572293, 0.021330319727125756, 0.8314670119648556, 0.36379209623643227, 0.36379209623643227, 0.7832653901267586, 0.34980857254245423, 0.2332057150283028, 0.2332057150283028, 0.24063044638127762, 0.48126089276255524, 0.24063044638127762, 0.592470559744416, 0.39498037316294404, 0.3606258294338335, 0.48083443924511127, 0.12020860981127782, 0.12923283369451263, 0.12923283369451263, 0.6461641684725631, 0.4278343898724821, 0.27683401697631194, 0.27683401697631194, 0.6613860485678504, 0.11578978573541585, 0.11578978573541585, 0.8105285001479109, 0.38795889431428543, 0.38795889431428543, 0.0667255023131544, 0.0667255023131544, 0.7339805254446984, 0.0667255023131544, 0.6942266922923892, 0.8478178522098991, 0.20463015786328173, 0.20463015786328173, 0.20463015786328173, 0.40926031572656346, 0.863785733967378, 0.095976192663042, 0.5918164819385553, 0.2953623307531057, 0.5907246615062114, 0.899240719559824, 0.08174915632362037, 0.06755284876280787, 0.8781870339165023, 0.8430913768570568, 0.1053864221071321, 0.7683848608206602, 0.19209621520516504, 0.3058134215632923, 0.3058134215632923, 0.3058134215632923, 0.7912408717974301, 0.2857757467063924, 0.5715514934127848, 0.309456416074138, 0.309456416074138, 0.309456416074138, 0.24056347575507922, 0.24056347575507922, 0.24056347575507922, 0.24056347575507922, 0.9181841835040465, 0.6536592244567924, 0.3268296122283962, 0.5890899039155307, 0.14727247597888268, 0.14727247597888268, 0.12110881828755965, 0.12110881828755965, 0.6055440914377982, 0.12110881828755965, 0.39574429697583263, 0.19787214848791632, 0.19787214848791632, 0.5846387628792016, 0.715009609678749, 0.6202649009816404, 0.5631392925066409, 0.2815696462533204, 0.1496972749581037, 0.7484863747905186, 0.6110081099451768, 0.2715591599756342, 0.8271311692270422, 0.8669483072824554, 0.06668833132941965, 0.9106037914033723, 0.14527219683007672, 0.798997082565422, 0.6968030923821622, 0.23226769746072073, 0.3006180127756803, 0.6012360255513606, 0.8700882747785779, 0.0790989340707798, 0.2069958951297354, 0.2069958951297354, 0.4139917902594708, 0.3286638695807487, 0.3286638695807487, 0.3253763586957672, 0.3253763586957672, 0.39366998388406527, 0.19683499194203263, 0.39366998388406527, 0.8619567923247728, 0.9238242200317398, 0.2763916445910641, 0.6564301559037772, 0.06909791114776602, 0.883486378454656, 0.05196978696792094, 0.6744580759098251, 0.26206985839516883, 0.6551746459879222, 0.9006841988048745, 0.5950591612048327, 0.6768197138153614, 0.27524193635197464, 0.5504838727039493, 0.5161326226720706, 0.06451657783400883, 0.06451657783400883, 0.32258288917004413, 0.8742243648817157, 0.4352444133892698, 0.4352444133892698, 0.47428104533184895, 0.09485620906636978, 0.28456862719910936, 0.6356952524448347, 0.1816272149842385, 0.1816272149842385, 0.2751459377115745, 0.6003184095525261, 0.10005306825875436, 0.11916014142402773, 0.7149608485441663, 0.18039800655506677, 0.7215920262202671, 0.7497067569397328, 0.5538432693453037, 0.18461442311510126, 0.18461442311510126, 0.21330993639499432, 0.40214168336761225, 0.19932239958220782, 0.08742210507991571, 0.034968842031966284, 0.0244781894223764, 0.03147195782876965, 0.006993768406393257, 0.4203364637182476, 0.2101682318591238, 0.21394637341907574, 0.4278927468381515, 0.21394637341907574, 0.8481067692998777, 0.6116753293597961, 0.23241623837862063, 0.07747207945954021, 0.697248715135862, 0.18110711842396782, 0.7244284736958713, 0.4947622481848137, 0.24738112409240684, 0.8011383936233843, 0.08901537706926492, 0.8266121307006792, 0.6734730111112672, 0.2740780829156179, 0.5481561658312358, 0.47068354019182457, 0.23534177009591228, 0.23534177009591228, 0.7521618273339024, 0.1253603045556504, 0.7426148455041136, 0.2544787311790634, 0.6361968279476585, 0.5095687491590515, 0.25478437457952574, 0.12739218728976287, 0.6725737206247985, 0.3298988243728175, 0.3298988243728175, 0.3298988243728175, 0.19287576417031346, 0.5786272925109404, 0.38438557180869193, 0.5491222454409884, 0.687463279565483, 0.3090226952081109, 0.3090226952081109, 0.3090226952081109, 0.5308841169184136, 0.2654420584592068, 0.11396783110129895, 0.7977748177090926, 0.05171759584205298, 0.8791991293149007, 0.05171759584205298, 0.27569852104241244, 0.5513970420848249, 0.2986947222991163, 0.2986947222991163, 0.2986947222991163, 0.36805759255886233, 0.36805759255886233, 0.18402879627943117, 0.389652185112876, 0.389652185112876, 0.2825353863922367, 0.5650707727844734, 0.7343409738856027, 0.10490585341222895, 0.10490585341222895, 0.11179704766303204, 0.44718819065212817, 0.35402398426626813, 0.05589852383151602, 0.13231326783015243, 0.13231326783015243, 0.5292530713206097, 0.13231326783015243, 0.07048977527524151, 0.7753875280276568, 0.07048977527524151, 0.8909938338230071, 0.2620221619620377, 0.06550554049050943, 0.6550554049050942, 0.939941512253084, 0.8908447892165015, 0.7359490752361819, 0.8532240515828318, 0.934263361356857, 0.7271752213691376, 0.2423917404563792, 0.5651184116557427, 0.28255920582787136, 0.62421708070871, 0.358206979987918, 0.179103489993959, 0.358206979987918, 0.5632373522513171, 0.28161867612565855, 0.8500287543389136, 0.0772753413035376, 0.0759603183312028, 0.759603183312028, 0.0759603183312028, 0.8494576186144107, 0.8552506545393206, 0.25935284354107674, 0.6483821088526919, 0.4746805321062894, 0.18987221284251576, 0.18987221284251576, 0.6545563975033302, 0.3021029526938447, 0.8636021842969013, 0.02008377172783491, 0.046862134031614794, 0.053556724607559766, 0.013389181151889942, 0.9410771646893583, 0.783505387721617, 0.42269013794011934, 0.7322642827749398, 0.24408809425831327, 0.9218065716858441, 0.3136979859267997, 0.3136979859267997, 0.3136979859267997, 0.899255647274052, 0.12727756141060959, 0.25455512282121917, 0.12727756141060959, 0.38183268423182876, 0.579768125922913, 0.2898840629614565, 0.8374413935401478, 0.1550220373021999, 0.1550220373021999, 0.1550220373021999, 0.46506611190659974, 0.6161883626528674, 0.20539612088428913, 0.20539612088428913, 0.5481953162349269, 0.27409765811746345, 0.2088439474054641, 0.2088439474054641, 0.4176878948109282, 0.5840944273111508, 0.7138643832956872, 0.4080152229876613, 0.5304197898839597, 0.5235607068861414, 0.1745202356287138, 0.1745202356287138, 0.9230533132919647, 0.03846055472049853, 0.3401276116801379, 0.3741403728481517, 0.06802552233602759, 0.10203828350404137, 0.10203828350404137, 0.2124591729710683, 0.2124591729710683, 0.4249183459421366, 0.8539665992453187, 0.2984204316843682, 0.2984204316843682, 0.2984204316843682, 0.2626581355358467, 0.5253162710716934, 0.8269145348401586, 0.638440577933354, 0.21281352597778466, 0.6012174405917264, 0.18297922104965586, 0.14376938796758676, 0.06534972180344853, 0.9412084726525246, 0.6887469576151565, 0.17218673940378912, 0.8584303074520279, 0.3972242122387323, 0.5958363183580985, 0.6620384273597448, 0.26481537094389795, 0.4388402113838092, 0.2194201056919046, 0.2194201056919046, 0.2637313550958515, 0.2637313550958515, 0.2637313550958515, 0.6800365671721872, 0.5647853397853483, 0.28239266989267414, 0.11843371766818031, 0.769819164843172, 0.059216858834090155, 0.2167175198978026, 0.6501525596934078, 0.5776547741748064, 0.6971995510632233, 0.33165114525220324, 0.33165114525220324], \"Term\": [\"abandon\", \"accept\", \"accept\", \"accept\", \"account\", \"account\", \"account\", \"account\", \"action\", \"activ\", \"activ\", \"activ\", \"actual\", \"actual\", \"advertis\", \"advertis\", \"agre\", \"aim\", \"aim\", \"allow\", \"allow\", \"alreadi\", \"alreadi\", \"alreadi\", \"ama\", \"amaz\", \"amazon\", \"amp\", \"amp\", \"amp\", \"android\", \"anonym\", \"anonym\", \"anonym\", \"anoth\", \"anoth\", \"app\", \"app\", \"appl\", \"appl\", \"appl\", \"attack\", \"attack\", \"attack\", \"authent\", \"authent\", \"autom\", \"avoid\", \"avoid\", \"becom\", \"becom\", \"becom\", \"becom\", \"big\", \"bigcoinvietnam\", \"biometr\", \"bitcoin\", \"bitdefend\", \"blow\", \"bot\", \"bot\", \"btc\", \"busi\", \"busi\", \"busi\", \"case\", \"case\", \"chang\", \"chang\", \"chang\", \"chang\", \"channel\", \"chat\", \"chat\", \"china\", \"china\", \"china\", \"cigarett\", \"click\", \"click\", \"cloud\", \"cloud\", \"cloud\", \"cloudcomput\", \"cloudcomput\", \"cloudsecur\", \"cloudsecur\", \"code\", \"code\", \"coin\", \"coin\", \"collect\", \"come\", \"come\", \"come\", \"commun\", \"competit\", \"competit\", \"competit\", \"complianc\", \"complianc\", \"concern\", \"concern\", \"concern\", \"connect\", \"connect\", \"connect\", \"content\", \"content\", \"coronatrackernep\", \"coronaviru\", \"corrupt\", \"court\", \"court\", \"covid\", \"covid\", \"credit\", \"crypto\", \"crypto\", \"cyber\", \"cyberattack\", \"cybersec\", \"cybersecur\", \"cybersecur\", \"cybersecur\", \"cybersecur\", \"cyberthreat\", \"cyberthreat\", \"cyclon\", \"cycloneprotocol\", \"daili\", \"dash\", \"data\", \"data\", \"data\", \"data\", \"databreach\", \"dataprivaci\", \"dataprivaci\", \"dataprivacyday\", \"dataprivacyday\", \"dataprivacyday\", \"dataprivacyday\", \"dataprotect\", \"dataprotect\", \"dataprotect\", \"dataprotect\", \"dataprotect\", \"datasecur\", \"datasecur\", \"datum\", \"datum\", \"datum\", \"datum\", \"day\", \"day\", \"day\", \"delet\", \"delet\", \"delet\", \"demand\", \"demand\", \"demand\", \"democraci\", \"develop\", \"differ\", \"digit\", \"digit\", \"discuss\", \"discuss\", \"download\", \"download\", \"drjdrooghaag\", \"effort\", \"encrochat\", \"encrypt\", \"encrypt\", \"encrypt\", \"eth\", \"ethic\", \"ethic\", \"europ\", \"europ\", \"everi\", \"everi\", \"everyon\", \"everyon\", \"everyon\", \"excit\", \"excit\", \"excit\", \"exhibitionist\", \"facebook\", \"facebook\", \"facebook\", \"facebook\", \"februari\", \"februari\", \"file\", \"fintech\", \"fintech\", \"fintech\", \"follow\", \"free\", \"free\", \"freedom\", \"freedom\", \"fun\", \"fun\", \"fun\", \"futur\", \"futur\", \"fuw\", \"gari\", \"gdpr\", \"germani\", \"germani\", \"good\", \"good\", \"good\", \"googl\", \"googl\", \"great\", \"great\", \"group\", \"group\", \"hack\", \"hacker\", \"hacker\", \"hand\", \"hand\", \"hand\", \"happi\", \"happi\", \"hear\", \"help\", \"high\", \"high\", \"high\", \"home\", \"honor\", \"host\", \"http\", \"http\", \"http\", \"http\", \"http\", \"http\", \"humanright\", \"ident\", \"ident\", \"imp\", \"import\", \"import\", \"import\", \"individu\", \"individu\", \"individu\", \"info\", \"info\", \"inform\", \"inform\", \"inform\", \"informationsecur\", \"informationsecur\", \"informationsecur\", \"infosec\", \"infosec\", \"infosec\", \"instagram\", \"instal\", \"instal\", \"instal\", \"intern\", \"intern\", \"internet\", \"internet\", \"internet\", \"internet\", \"invest\", \"iotex\", \"iphon\", \"iphon\", \"iphon\", \"iphon\", \"issu\", \"issu\", \"itssssp\", \"januari\", \"januari\", \"join\", \"join\", \"justic\", \"justic\", \"know\", \"know\", \"late\", \"late\", \"laugh\", \"laugh\", \"laugh\", \"launch\", \"law\", \"law\", \"learn\", \"learn\", \"learn\", \"leav\", \"leav\", \"leav\", \"leav\", \"light\", \"like\", \"like\", \"link\", \"link\", \"link\", \"locat\", \"locat\", \"locat\", \"locat\", \"look\", \"look\", \"look\", \"machinelearn\", \"mad\", \"maintain\", \"major\", \"major\", \"make\", \"make\", \"malwar\", \"malwar\", \"man\", \"manag\", \"manag\", \"mandatori\", \"mani\", \"mani\", \"mean\", \"mean\", \"mentalhealth\", \"mentalhealth\", \"messag\", \"messag\", \"million\", \"million\", \"million\", \"mind\", \"mind\", \"mobil\", \"mobil\", \"model\", \"model\", \"model\", \"movi\", \"nca\", \"new\", \"new\", \"new\", \"news\", \"news\", \"number\", \"offici\", \"offici\", \"onlin\", \"onlyfan\", \"parti\", \"password\", \"password\", \"peopl\", \"peopl\", \"peopl\", \"peopl\", \"phish\", \"phone\", \"phone\", \"platform\", \"platform\", \"platform\", \"plea\", \"plea\", \"plea\", \"polici\", \"polici\", \"polici\", \"post\", \"post\", \"power\", \"power\", \"present\", \"price\", \"price\", \"price\", \"privaci\", \"privaci\", \"privaci\", \"privaci\", \"privaci\", \"privaci\", \"privaci\", \"privaci\", \"privat\", \"privat\", \"problem\", \"problem\", \"problem\", \"project\", \"propos\", \"protect\", \"protect\", \"protect\", \"protocol\", \"protocol\", \"provid\", \"provid\", \"public\", \"public\", \"publicnak\", \"publicsex\", \"publish\", \"publish\", \"rais\", \"rais\", \"rais\", \"ransomwar\", \"ransomwar\", \"ratan\", \"reach\", \"reach\", \"read\", \"read\", \"read\", \"readi\", \"recent\", \"recent\", \"recent\", \"recoveri\", \"recoveri\", \"regul\", \"regul\", \"remov\", \"report\", \"report\", \"report\", \"respect\", \"respect\", \"review\", \"review\", \"right\", \"right\", \"right\", \"risk\", \"risk\", \"riskmanag\", \"riskmanag\", \"riskmanag\", \"rule\", \"rule\", \"rule\", \"safeguard\", \"safeguard\", \"safeti\", \"safeti\", \"say\", \"say\", \"say\", \"secur\", \"secur\", \"secur\", \"secur\", \"sell\", \"sell\", \"sell\", \"sell\", \"servic\", \"servic\", \"servic\", \"set\", \"share\", \"share\", \"share\", \"signal\", \"signalapp\", \"singapor\", \"social\", \"socialmedia\", \"solut\", \"solut\", \"someon\", \"someon\", \"soon\", \"sourc\", \"sourc\", \"sourc\", \"speech\", \"speech\", \"startup\", \"startup\", \"stop\", \"stop\", \"stop\", \"surveil\", \"talk\", \"team\", \"team\", \"tech\", \"tech\", \"tech\", \"technolog\", \"technolog\", \"telegram\", \"telegram\", \"telegram\", \"telegram\", \"telegram\", \"term\", \"thehackersnew\", \"therew\", \"think\", \"think\", \"threat\", \"tiktok\", \"tiktok\", \"tiktok\", \"time\", \"today\", \"today\", \"today\", \"today\", \"topic\", \"topic\", \"total\", \"track\", \"track\", \"track\", \"track\", \"trade\", \"trade\", \"trade\", \"transpar\", \"transpar\", \"trust\", \"trust\", \"trust\", \"turn\", \"tweet\", \"updat\", \"updat\", \"usa\", \"usa\", \"usa\", \"use\", \"use\", \"user\", \"user\", \"user\", \"user\", \"user\", \"violat\", \"violat\", \"violat\", \"violenc\", \"watch\", \"watch\", \"watch\", \"web\", \"web\", \"websit\", \"week\", \"week\", \"whatsapp\", \"whatsapp\", \"whatsapp\", \"whatsapp\", \"whatsappnewpolici\", \"whatsappprivaci\", \"whatsappprivaci\", \"whatsappprivacypolici\", \"wish\", \"wish\", \"work\", \"work\", \"world\", \"world\", \"world\", \"write\", \"write\", \"write\", \"xhv\", \"xtz\", \"xtz\", \"year\", \"year\", \"year\", \"youtub\", \"youtub\", \"ysign\", \"zec\", \"zuckerberg\", \"zuckerberg\"]}, \"R\": 30, \"lambda.step\": 0.01, \"plot.opts\": {\"xlab\": \"PC1\", \"ylab\": \"PC2\"}, \"topic.order\": [6, 4, 3, 5, 8, 10, 2, 1, 9, 7]};\n",
              "\n",
              "function LDAvis_load_lib(url, callback){\n",
              "  var s = document.createElement('script');\n",
              "  s.src = url;\n",
              "  s.async = true;\n",
              "  s.onreadystatechange = s.onload = callback;\n",
              "  s.onerror = function(){console.warn(\"failed to load library \" + url);};\n",
              "  document.getElementsByTagName(\"head\")[0].appendChild(s);\n",
              "}\n",
              "\n",
              "if(typeof(LDAvis) !== \"undefined\"){\n",
              "   // already loaded: just create the visualization\n",
              "   !function(LDAvis){\n",
              "       new LDAvis(\"#\" + \"ldavis_el156140239332870480252670572\", ldavis_el156140239332870480252670572_data);\n",
              "   }(LDAvis);\n",
              "}else if(typeof define === \"function\" && define.amd){\n",
              "   // require.js is available: use it to load d3/LDAvis\n",
              "   require.config({paths: {d3: \"https://d3js.org/d3.v5\"}});\n",
              "   require([\"d3\"], function(d3){\n",
              "      window.d3 = d3;\n",
              "      LDAvis_load_lib(\"https://cdn.jsdelivr.net/gh/bmabey/pyLDAvis@3.3.1/pyLDAvis/js/ldavis.v3.0.0.js\", function(){\n",
              "        new LDAvis(\"#\" + \"ldavis_el156140239332870480252670572\", ldavis_el156140239332870480252670572_data);\n",
              "      });\n",
              "    });\n",
              "}else{\n",
              "    // require.js not available: dynamically load d3 & LDAvis\n",
              "    LDAvis_load_lib(\"https://d3js.org/d3.v5.js\", function(){\n",
              "         LDAvis_load_lib(\"https://cdn.jsdelivr.net/gh/bmabey/pyLDAvis@3.3.1/pyLDAvis/js/ldavis.v3.0.0.js\", function(){\n",
              "                 new LDAvis(\"#\" + \"ldavis_el156140239332870480252670572\", ldavis_el156140239332870480252670572_data);\n",
              "            })\n",
              "         });\n",
              "}\n",
              "</script>"
            ],
            "text/plain": [
              "PreparedData(topic_coordinates=               x          y  topics  cluster       Freq\n",
              "topic                                                  \n",
              "5      32.420952   8.115230       1        1  30.745612\n",
              "3       0.648955  71.707100       2        1  23.851115\n",
              "2      71.019684   9.971006       3        1  13.114678\n",
              "4       3.785981  33.185135       4        1   6.961831\n",
              "7     -42.666500  -9.222070       5        1   5.739108\n",
              "9      -3.621689 -43.526516       6        1   5.700687\n",
              "1      -3.632402  -4.171708       7        1   3.976993\n",
              "0     -36.584400  35.804413       8        1   3.931314\n",
              "8      44.391380  50.615383       9        1   3.517726\n",
              "6      40.235809 -31.591665      10        1   2.460936, topic_info=         Term        Freq       Total Category  logprob  loglift\n",
              "358  telegram  149.000000  149.000000  Default  30.0000  30.0000\n",
              "20        amp   38.000000   38.000000  Default  29.0000  29.0000\n",
              "183      http  328.000000  328.000000  Default  28.0000  28.0000\n",
              "286   privaci  285.000000  285.000000  Default  27.0000  27.0000\n",
              "278    polici   39.000000   39.000000  Default  26.0000  26.0000\n",
              "..        ...         ...         ...      ...      ...      ...\n",
              "275  platform    0.148675   10.542272  Topic10  -6.4525  -0.5568\n",
              "31      becom    0.155334   14.685255  Topic10  -6.4087  -0.8444\n",
              "325       say    0.142504    9.532357  Topic10  -6.4949  -0.4985\n",
              "225      link    0.127904    6.790135  Topic10  -6.6030  -0.2673\n",
              "183      http    0.179234  328.171358  Topic10  -6.2656  -3.8080\n",
              "\n",
              "[420 rows x 6 columns], token_table=      Topic      Freq        Term\n",
              "term                             \n",
              "0         2  0.721221     abandon\n",
              "1         4  0.173180      accept\n",
              "1         6  0.519540      accept\n",
              "1         9  0.173180      accept\n",
              "3         1  0.350846     account\n",
              "...     ...       ...         ...\n",
              "409       3  0.650153      youtub\n",
              "410       2  0.577655       ysign\n",
              "411       1  0.697200         zec\n",
              "412       2  0.331651  zuckerberg\n",
              "412       7  0.331651  zuckerberg\n",
              "\n",
              "[601 rows x 3 columns], R=30, lambda_step=0.01, plot_opts={'xlab': 'PC1', 'ylab': 'PC2'}, topic_order=[6, 4, 3, 5, 8, 10, 2, 1, 9, 7])"
            ]
          },
          "metadata": {
            "tags": []
          },
          "execution_count": 89
        }
      ]
    },
    {
      "cell_type": "code",
      "metadata": {
        "colab": {
          "base_uri": "https://localhost:8080/"
        },
        "id": "LCfGU128hK2A",
        "outputId": "ad9907ee-1206-4fa1-ee68-b1039ac8c0e5"
      },
      "source": [
        "for i,topic in enumerate(lda_model.components_):\n",
        "  print(f'Top 10 words for topic #{i}:')\n",
        "  print([vectorizer.get_feature_names()[i] for i in topic.argsort()[-10:]])\n",
        "  print('\\n')"
      ],
      "execution_count": 90,
      "outputs": [
        {
          "output_type": "stream",
          "text": [
            "Top 10 words for topic #0:\n",
            "['fuw', 'readi', 'everi', 'locat', 'download', 'day', 'good', 'post', 'telegram', 'http']\n",
            "\n",
            "\n",
            "Top 10 words for topic #1:\n",
            "['becom', 'review', 'everyon', 'hear', 'nca', 'corrupt', 'encrochat', 'privaci', 'justic', 'amp']\n",
            "\n",
            "\n",
            "Top 10 words for topic #2:\n",
            "['regul', 'startup', 'threat', 'manag', 'complianc', 'gdpr', 'cybersecur', 'secur', 'privaci', 'http']\n",
            "\n",
            "\n",
            "Top 10 words for topic #3:\n",
            "['help', 'whatsapp', 'commun', 'right', 'infosec', 'new', 'secur', 'cybersecur', 'http', 'privaci']\n",
            "\n",
            "\n",
            "Top 10 words for topic #4:\n",
            "['servic', 'whatsapp', 'app', 'internet', 'agre', 'facebook', 'updat', 'term', 'polici', 'privaci']\n",
            "\n",
            "\n",
            "Top 10 words for topic #5:\n",
            "['app', 'late', 'signal', 'join', 'whatsappnewpolici', 'use', 'whatsapp', 'privaci', 'telegram', 'http']\n",
            "\n",
            "\n",
            "Top 10 words for topic #6:\n",
            "['telegram', 'sourc', 'coronatrackernep', 'bot', 'coronaviru', 'today', 'recoveri', 'covid', 'case', 'total']\n",
            "\n",
            "\n",
            "Top 10 words for topic #7:\n",
            "['datum', 'ransomwar', 'dataprotect', 'phish', 'malwar', 'privaci', 'cybersecur', 'infosec', 'databreach', 'http']\n",
            "\n",
            "\n",
            "Top 10 words for topic #8:\n",
            "['delet', 'polici', 'alreadi', 'download', 'chang', 'whatsapp', 'movi', 'peopl', 'instal', 'telegram']\n",
            "\n",
            "\n",
            "Top 10 words for topic #9:\n",
            "['bigcoinvietnam', 'team', 'cloudcomput', 'reach', 'dataprotect', 'host', 'privaci', 'http', 'cloud', 'infosec']\n",
            "\n",
            "\n"
          ],
          "name": "stdout"
        }
      ]
    },
    {
      "cell_type": "code",
      "metadata": {
        "id": "mH19QQK0hR7z"
      },
      "source": [
        "topic_values = lda_model.transform(data_matrix)\n",
        "df['Topic'] = topic_values.argmax(axis=1)"
      ],
      "execution_count": 72,
      "outputs": []
    },
    {
      "cell_type": "code",
      "metadata": {
        "colab": {
          "base_uri": "https://localhost:8080/",
          "height": 204
        },
        "id": "auP4y6IOhr_B",
        "outputId": "28c06856-ac7c-46e4-935b-1b2494084881"
      },
      "source": [
        "df.head()"
      ],
      "execution_count": 16,
      "outputs": [
        {
          "output_type": "execute_result",
          "data": {
            "text/html": [
              "<div>\n",
              "<style scoped>\n",
              "    .dataframe tbody tr th:only-of-type {\n",
              "        vertical-align: middle;\n",
              "    }\n",
              "\n",
              "    .dataframe tbody tr th {\n",
              "        vertical-align: top;\n",
              "    }\n",
              "\n",
              "    .dataframe thead th {\n",
              "        text-align: right;\n",
              "    }\n",
              "</style>\n",
              "<table border=\"1\" class=\"dataframe\">\n",
              "  <thead>\n",
              "    <tr style=\"text-align: right;\">\n",
              "      <th></th>\n",
              "      <th>tweets_cleaned</th>\n",
              "      <th>Topic</th>\n",
              "    </tr>\n",
              "  </thead>\n",
              "  <tbody>\n",
              "    <tr>\n",
              "      <th>0</th>\n",
              "      <td>telegram paid servic registr open run calendar...</td>\n",
              "      <td>1</td>\n",
              "    </tr>\n",
              "    <tr>\n",
              "      <th>1</th>\n",
              "      <td>corona info germani new case today recoveri to...</td>\n",
              "      <td>4</td>\n",
              "    </tr>\n",
              "    <tr>\n",
              "      <th>2</th>\n",
              "      <td>check icon telegram bot pleas look step step g...</td>\n",
              "      <td>9</td>\n",
              "    </tr>\n",
              "    <tr>\n",
              "      <th>3</th>\n",
              "      <td>rt africadem launch alert join new scholarship...</td>\n",
              "      <td>6</td>\n",
              "    </tr>\n",
              "    <tr>\n",
              "      <th>4</th>\n",
              "      <td>rt hannaliubakova belaru day belarusian came s...</td>\n",
              "      <td>6</td>\n",
              "    </tr>\n",
              "  </tbody>\n",
              "</table>\n",
              "</div>"
            ],
            "text/plain": [
              "                                      tweets_cleaned  Topic\n",
              "0  telegram paid servic registr open run calendar...      1\n",
              "1  corona info germani new case today recoveri to...      4\n",
              "2  check icon telegram bot pleas look step step g...      9\n",
              "3  rt africadem launch alert join new scholarship...      6\n",
              "4  rt hannaliubakova belaru day belarusian came s...      6"
            ]
          },
          "metadata": {
            "tags": []
          },
          "execution_count": 16
        }
      ]
    },
    {
      "cell_type": "markdown",
      "metadata": {
        "id": "_KMx8l5paOKt"
      },
      "source": [
        "# VADER Sentiment Analyzer"
      ]
    },
    {
      "cell_type": "code",
      "metadata": {
        "colab": {
          "base_uri": "https://localhost:8080/"
        },
        "id": "4H9BmsaDaNe0",
        "outputId": "bdb9223a-02bb-49c8-bf66-e879135c8bf9"
      },
      "source": [
        "sid = SentimentIntensityAnalyzer()\n",
        "new_df = df['tweets_cleaned'].apply(lambda x: sid.polarity_scores(x))\n",
        "new_df.head()"
      ],
      "execution_count": 17,
      "outputs": [
        {
          "output_type": "execute_result",
          "data": {
            "text/plain": [
              "0    {'neg': 0.0, 'neu': 0.775, 'pos': 0.225, 'comp...\n",
              "1    {'neg': 0.0, 'neu': 1.0, 'pos': 0.0, 'compound...\n",
              "2    {'neg': 0.0, 'neu': 0.915, 'pos': 0.085, 'comp...\n",
              "3    {'neg': 0.0, 'neu': 0.8, 'pos': 0.2, 'compound...\n",
              "4    {'neg': 0.0, 'neu': 1.0, 'pos': 0.0, 'compound...\n",
              "Name: tweets_cleaned, dtype: object"
            ]
          },
          "metadata": {
            "tags": []
          },
          "execution_count": 17
        }
      ]
    },
    {
      "cell_type": "code",
      "metadata": {
        "colab": {
          "base_uri": "https://localhost:8080/"
        },
        "id": "3LSDbQg8auUD",
        "outputId": "506470e2-49e4-4067-f771-6e8efa3909ff"
      },
      "source": [
        "compound_sentiment = []\n",
        "for i in range(0,len(new_df)):\n",
        "    compound_sentiment.append(new_df.loc[i]['compound'])\n",
        "print(compound_sentiment)"
      ],
      "execution_count": 18,
      "outputs": [
        {
          "output_type": "stream",
          "text": [
            "[0.8126, 0.0, 0.4019, 0.3612, 0.0, 0.5003, 0.5719, 0.0, 0.0, 0.0, 0.0, 0.0, 0.296, 0.4767, 0.0, 0.0, 0.0, 0.5423, 0.6124, 0.2732, 0.0, 0.0, 0.0, 0.8373, -0.296, 0.7717, 0.0, -0.128, 0.0, 0.0, 0.0, 0.872, 0.0, 0.0, 0.5859, 0.0, 0.4939, 0.2023, 0.0, 0.296, -0.5574, 0.3612, 0.6124, -0.5267, 0.0, 0.296, 0.0, -0.5423, 0.4019, 0.5106, 0.8591, 0.0, -0.2732, 0.0, 0.0, 0.296, -0.5267, -0.34, 0.0, 0.0, 0.0, 0.7845, 0.0, 0.296, -0.0258, 0.926, 0.1027, 0.8442, 0.6369, 0.0, -0.3182, 0.0, -0.25, 0.0, 0.0, -0.296, 0.0, 0.0, 0.0, -0.4767, -0.0772, 0.296, 0.0, 0.6249, 0.0, 0.0, 0.8316, 0.0, 0.0772, 0.0, 0.0, 0.0, 0.0, 0.0, 0.0, 0.743, 0.5106, 0.0, 0.0, 0.0, 0.6249, 0.6597, 0.5719, -0.0772, 0.0, 0.0, 0.0516, 0.0, 0.5574, 0.0, 0.6369, 0.5106, 0.5106, 0.0, 0.0, 0.0, 0.3818, 0.0, -0.0772, 0.0, 0.0, 0.0, 0.0, 0.0, -0.34, 0.0, 0.0, 0.0, 0.0, 0.296, 0.5106, 0.0, 0.0, 0.0772, 0.0, -0.5719, 0.0, 0.0, 0.2732, 0.0, 0.0, -0.34, 0.0, 0.0, 0.0, -0.5267, 0.0, 0.0, 0.6369, -0.4939, -0.4472, -0.0772, 0.0, 0.0, 0.0, 0.6369, -0.1531, 0.3182, -0.0772, 0.4404, 0.1779, 0.0, 0.0, 0.8373, 0.0, 0.0, 0.0772, 0.0, 0.0, 0.0, 0.0, -0.4019, -0.34, 0.4404, 0.0, 0.0, 0.2263, -0.3818, 0.3612, 0.0, 0.0772, 0.0, 0.0, -0.296, 0.7717, 0.0772, -0.34, 0.0, 0.5106, -0.2732, 0.6486, -0.1027, 0.0, -0.34, 0.0, -0.25, 0.296, 0.0, 0.0, 0.0, -0.3612, 0.5859, 0.2732, 0.3612, 0.0, -0.5267, 0.0, 0.0, 0.0, 0.0, 0.0, 0.0, -0.1027, 0.7964, 0.3182, 0.0, 0.0, -0.1531, 0.7906, 0.4215, 0.0, 0.0, 0.0, 0.296, 0.5574, 0.0, 0.0, 0.0, 0.6249, 0.0, 0.2732, 0.4215, -0.5994, 0.4019, 0.4019, 0.5423, 0.0, 0.0, 0.0, 0.4939, -0.3818, 0.0, 0.4588, 0.0, 0.0, 0.0, 0.4404, 0.296, 0.0, 0.0, 0.296, 0.0, -0.3818, 0.0, 0.0, 0.0, -0.7003, 0.5106, 0.5106, 0.0, 0.0, 0.0, 0.0, -0.3182, 0.0, -0.0258, 0.1531, -0.0772, 0.4767, -0.2732, 0.0, 0.0, 0.0, 0.0, -0.2023, 0.7579, 0.0, 0.296, 0.743, 0.3818, -0.2023, -0.0258, -0.296, 0.0, 0.0, 0.5423, 0.0, -0.1531, 0.0, -0.296, 0.0, 0.0, -0.5574, 0.3612, 0.765, 0.5859, 0.4939, 0.0, 0.0, 0.2023, 0.0, 0.0, 0.0, 0.0, -0.2732, 0.0, 0.5106, -0.4215, 0.0, -0.2732, 0.0, 0.3818, 0.5859, 0.0, 0.765, 0.0, 0.128, 0.0, 0.0, 0.0, -0.1531, -0.5267, 0.7964, 0.0, 0.2263, 0.0, 0.0, -0.4767, 0.0, 0.0, 0.0, -0.5267, 0.34, 0.0, 0.6124, 0.0, 0.0, 0.3818, 0.0, 0.0, 0.0, 0.0, 0.0, 0.4939, 0.0772, -0.1779, 0.0, 0.0, 0.6249, 0.5267, 0.0, -0.4767, 0.0, -0.2263, 0.7506, 0.0, 0.0, 0.0, -0.5267, 0.2263, 0.0, 0.1779, 0.0, 0.0, 0.4019, -0.6124, 0.0, 0.0, 0.0, 0.0258, 0.296, 0.0, -0.0258, 0.0, 0.0, 0.0, 0.4404, 0.0, 0.3818, -0.1027, 0.0, 0.296, 0.0, 0.3612, 0.0, -0.296, 0.6486, -0.8481, 0.0, -0.5423, 0.0, 0.0, 0.0, 0.296]\n"
          ],
          "name": "stdout"
        }
      ]
    },
    {
      "cell_type": "code",
      "metadata": {
        "colab": {
          "base_uri": "https://localhost:8080/",
          "height": 204
        },
        "id": "C-yQM5fyayV0",
        "outputId": "11b93321-50e2-4725-b518-d628934d2433"
      },
      "source": [
        "df['compound_sentiment'] = pd.DataFrame(compound_sentiment)\n",
        "df.head()"
      ],
      "execution_count": 19,
      "outputs": [
        {
          "output_type": "execute_result",
          "data": {
            "text/html": [
              "<div>\n",
              "<style scoped>\n",
              "    .dataframe tbody tr th:only-of-type {\n",
              "        vertical-align: middle;\n",
              "    }\n",
              "\n",
              "    .dataframe tbody tr th {\n",
              "        vertical-align: top;\n",
              "    }\n",
              "\n",
              "    .dataframe thead th {\n",
              "        text-align: right;\n",
              "    }\n",
              "</style>\n",
              "<table border=\"1\" class=\"dataframe\">\n",
              "  <thead>\n",
              "    <tr style=\"text-align: right;\">\n",
              "      <th></th>\n",
              "      <th>tweets_cleaned</th>\n",
              "      <th>Topic</th>\n",
              "      <th>compound_sentiment</th>\n",
              "    </tr>\n",
              "  </thead>\n",
              "  <tbody>\n",
              "    <tr>\n",
              "      <th>0</th>\n",
              "      <td>pleas help retweet dj bash open nice clubhous ...</td>\n",
              "      <td>9</td>\n",
              "      <td>0.8126</td>\n",
              "    </tr>\n",
              "    <tr>\n",
              "      <th>1</th>\n",
              "      <td>use watusi io fouadraheb add new featur whatsa...</td>\n",
              "      <td>8</td>\n",
              "      <td>0.0000</td>\n",
              "    </tr>\n",
              "    <tr>\n",
              "      <th>2</th>\n",
              "      <td>excit announc strateg partnership dreadbong dr...</td>\n",
              "      <td>2</td>\n",
              "      <td>0.4019</td>\n",
              "    </tr>\n",
              "    <tr>\n",
              "      <th>3</th>\n",
              "      <td>rt sarcastiqlonda user privaci data whatsapp l...</td>\n",
              "      <td>4</td>\n",
              "      <td>0.3612</td>\n",
              "    </tr>\n",
              "    <tr>\n",
              "      <th>4</th>\n",
              "      <td>whatsappnewpolici whatsapp whatsappprivacypoli...</td>\n",
              "      <td>0</td>\n",
              "      <td>0.0000</td>\n",
              "    </tr>\n",
              "  </tbody>\n",
              "</table>\n",
              "</div>"
            ],
            "text/plain": [
              "                                      tweets_cleaned  Topic  compound_sentiment\n",
              "0  pleas help retweet dj bash open nice clubhous ...      9              0.8126\n",
              "1  use watusi io fouadraheb add new featur whatsa...      8              0.0000\n",
              "2  excit announc strateg partnership dreadbong dr...      2              0.4019\n",
              "3  rt sarcastiqlonda user privaci data whatsapp l...      4              0.3612\n",
              "4  whatsappnewpolici whatsapp whatsappprivacypoli...      0              0.0000"
            ]
          },
          "metadata": {
            "tags": []
          },
          "execution_count": 19
        }
      ]
    },
    {
      "cell_type": "markdown",
      "metadata": {
        "id": "dR_bM4JhEqu_"
      },
      "source": [
        "## Important:\n",
        "\n",
        "Choose the python code below that match the name of the file that you uploaded above with _sentiment behind the name. For example, if you uploaded the telegram_2020.csv file, please use the df.to_csv('telegram_2020_sentiment.csv') code and ignore the rest. This code will export the dataframe with sentiment polarity score to a csv file."
      ]
    },
    {
      "cell_type": "code",
      "metadata": {
        "colab": {
          "base_uri": "https://localhost:8080/",
          "height": 17
        },
        "id": "ljQUFsF0bT4B",
        "outputId": "3515c4d1-e288-4b58-b36d-cb1e8afb93ef"
      },
      "source": [
        "df.to_csv('telegram_2020_sentiment.csv')\n",
        "files.download('telegram_2020_sentiment.csv')"
      ],
      "execution_count": 58,
      "outputs": [
        {
          "output_type": "display_data",
          "data": {
            "application/javascript": [
              "\n",
              "    async function download(id, filename, size) {\n",
              "      if (!google.colab.kernel.accessAllowed) {\n",
              "        return;\n",
              "      }\n",
              "      const div = document.createElement('div');\n",
              "      const label = document.createElement('label');\n",
              "      label.textContent = `Downloading \"${filename}\": `;\n",
              "      div.appendChild(label);\n",
              "      const progress = document.createElement('progress');\n",
              "      progress.max = size;\n",
              "      div.appendChild(progress);\n",
              "      document.body.appendChild(div);\n",
              "\n",
              "      const buffers = [];\n",
              "      let downloaded = 0;\n",
              "\n",
              "      const channel = await google.colab.kernel.comms.open(id);\n",
              "      // Send a message to notify the kernel that we're ready.\n",
              "      channel.send({})\n",
              "\n",
              "      for await (const message of channel.messages) {\n",
              "        // Send a message to notify the kernel that we're ready.\n",
              "        channel.send({})\n",
              "        if (message.buffers) {\n",
              "          for (const buffer of message.buffers) {\n",
              "            buffers.push(buffer);\n",
              "            downloaded += buffer.byteLength;\n",
              "            progress.value = downloaded;\n",
              "          }\n",
              "        }\n",
              "      }\n",
              "      const blob = new Blob(buffers, {type: 'application/binary'});\n",
              "      const a = document.createElement('a');\n",
              "      a.href = window.URL.createObjectURL(blob);\n",
              "      a.download = filename;\n",
              "      div.appendChild(a);\n",
              "      a.click();\n",
              "      div.remove();\n",
              "    }\n",
              "  "
            ],
            "text/plain": [
              "<IPython.core.display.Javascript object>"
            ]
          },
          "metadata": {
            "tags": []
          }
        },
        {
          "output_type": "display_data",
          "data": {
            "application/javascript": [
              "download(\"download_c5843a30-2041-4ef1-9cbd-ebea06bee457\", \"telegram_2020_sentiment.csv\", 48948)"
            ],
            "text/plain": [
              "<IPython.core.display.Javascript object>"
            ]
          },
          "metadata": {
            "tags": []
          }
        }
      ]
    },
    {
      "cell_type": "code",
      "metadata": {
        "colab": {
          "base_uri": "https://localhost:8080/",
          "height": 17
        },
        "id": "Vqci3CgMVciR",
        "outputId": "3053792a-c944-4e81-dfca-97eba8e988ee"
      },
      "source": [
        "df.to_csv('telegram_2021_sentiment.csv')\n",
        "files.download('telegram_2021_sentiment.csv')"
      ],
      "execution_count": 59,
      "outputs": [
        {
          "output_type": "display_data",
          "data": {
            "application/javascript": [
              "\n",
              "    async function download(id, filename, size) {\n",
              "      if (!google.colab.kernel.accessAllowed) {\n",
              "        return;\n",
              "      }\n",
              "      const div = document.createElement('div');\n",
              "      const label = document.createElement('label');\n",
              "      label.textContent = `Downloading \"${filename}\": `;\n",
              "      div.appendChild(label);\n",
              "      const progress = document.createElement('progress');\n",
              "      progress.max = size;\n",
              "      div.appendChild(progress);\n",
              "      document.body.appendChild(div);\n",
              "\n",
              "      const buffers = [];\n",
              "      let downloaded = 0;\n",
              "\n",
              "      const channel = await google.colab.kernel.comms.open(id);\n",
              "      // Send a message to notify the kernel that we're ready.\n",
              "      channel.send({})\n",
              "\n",
              "      for await (const message of channel.messages) {\n",
              "        // Send a message to notify the kernel that we're ready.\n",
              "        channel.send({})\n",
              "        if (message.buffers) {\n",
              "          for (const buffer of message.buffers) {\n",
              "            buffers.push(buffer);\n",
              "            downloaded += buffer.byteLength;\n",
              "            progress.value = downloaded;\n",
              "          }\n",
              "        }\n",
              "      }\n",
              "      const blob = new Blob(buffers, {type: 'application/binary'});\n",
              "      const a = document.createElement('a');\n",
              "      a.href = window.URL.createObjectURL(blob);\n",
              "      a.download = filename;\n",
              "      div.appendChild(a);\n",
              "      a.click();\n",
              "      div.remove();\n",
              "    }\n",
              "  "
            ],
            "text/plain": [
              "<IPython.core.display.Javascript object>"
            ]
          },
          "metadata": {
            "tags": []
          }
        },
        {
          "output_type": "display_data",
          "data": {
            "application/javascript": [
              "download(\"download_96d9d2ff-47df-4103-a550-15f9178b8a24\", \"telegram_2021_sentiment.csv\", 48948)"
            ],
            "text/plain": [
              "<IPython.core.display.Javascript object>"
            ]
          },
          "metadata": {
            "tags": []
          }
        }
      ]
    },
    {
      "cell_type": "code",
      "metadata": {
        "colab": {
          "base_uri": "https://localhost:8080/",
          "height": 17
        },
        "id": "k0ghbhSwVvsW",
        "outputId": "48f76cc8-fecb-485f-c89e-611171035aec"
      },
      "source": [
        "df.to_csv('whatsapp_2020_sentiment.csv')\n",
        "files.download('whatsapp_2020_sentiment.csv')"
      ],
      "execution_count": 76,
      "outputs": [
        {
          "output_type": "display_data",
          "data": {
            "application/javascript": [
              "\n",
              "    async function download(id, filename, size) {\n",
              "      if (!google.colab.kernel.accessAllowed) {\n",
              "        return;\n",
              "      }\n",
              "      const div = document.createElement('div');\n",
              "      const label = document.createElement('label');\n",
              "      label.textContent = `Downloading \"${filename}\": `;\n",
              "      div.appendChild(label);\n",
              "      const progress = document.createElement('progress');\n",
              "      progress.max = size;\n",
              "      div.appendChild(progress);\n",
              "      document.body.appendChild(div);\n",
              "\n",
              "      const buffers = [];\n",
              "      let downloaded = 0;\n",
              "\n",
              "      const channel = await google.colab.kernel.comms.open(id);\n",
              "      // Send a message to notify the kernel that we're ready.\n",
              "      channel.send({})\n",
              "\n",
              "      for await (const message of channel.messages) {\n",
              "        // Send a message to notify the kernel that we're ready.\n",
              "        channel.send({})\n",
              "        if (message.buffers) {\n",
              "          for (const buffer of message.buffers) {\n",
              "            buffers.push(buffer);\n",
              "            downloaded += buffer.byteLength;\n",
              "            progress.value = downloaded;\n",
              "          }\n",
              "        }\n",
              "      }\n",
              "      const blob = new Blob(buffers, {type: 'application/binary'});\n",
              "      const a = document.createElement('a');\n",
              "      a.href = window.URL.createObjectURL(blob);\n",
              "      a.download = filename;\n",
              "      div.appendChild(a);\n",
              "      a.click();\n",
              "      div.remove();\n",
              "    }\n",
              "  "
            ],
            "text/plain": [
              "<IPython.core.display.Javascript object>"
            ]
          },
          "metadata": {
            "tags": []
          }
        },
        {
          "output_type": "display_data",
          "data": {
            "application/javascript": [
              "download(\"download_656e7fa5-eea8-448d-8d22-3005ccaf1b69\", \"whatsapp_2020_sentiment.csv\", 44684)"
            ],
            "text/plain": [
              "<IPython.core.display.Javascript object>"
            ]
          },
          "metadata": {
            "tags": []
          }
        }
      ]
    },
    {
      "cell_type": "code",
      "metadata": {
        "colab": {
          "base_uri": "https://localhost:8080/",
          "height": 17
        },
        "id": "x6s1qhS8Vqs_",
        "outputId": "3eef7d92-ac32-4c2f-f3a2-4acb958e6e7e"
      },
      "source": [
        "df.to_csv('whatsapp_2021_sentiment.csv')\n",
        "files.download('whatsapp_2021_sentiment.csv')"
      ],
      "execution_count": 19,
      "outputs": [
        {
          "output_type": "display_data",
          "data": {
            "application/javascript": [
              "\n",
              "    async function download(id, filename, size) {\n",
              "      if (!google.colab.kernel.accessAllowed) {\n",
              "        return;\n",
              "      }\n",
              "      const div = document.createElement('div');\n",
              "      const label = document.createElement('label');\n",
              "      label.textContent = `Downloading \"${filename}\": `;\n",
              "      div.appendChild(label);\n",
              "      const progress = document.createElement('progress');\n",
              "      progress.max = size;\n",
              "      div.appendChild(progress);\n",
              "      document.body.appendChild(div);\n",
              "\n",
              "      const buffers = [];\n",
              "      let downloaded = 0;\n",
              "\n",
              "      const channel = await google.colab.kernel.comms.open(id);\n",
              "      // Send a message to notify the kernel that we're ready.\n",
              "      channel.send({})\n",
              "\n",
              "      for await (const message of channel.messages) {\n",
              "        // Send a message to notify the kernel that we're ready.\n",
              "        channel.send({})\n",
              "        if (message.buffers) {\n",
              "          for (const buffer of message.buffers) {\n",
              "            buffers.push(buffer);\n",
              "            downloaded += buffer.byteLength;\n",
              "            progress.value = downloaded;\n",
              "          }\n",
              "        }\n",
              "      }\n",
              "      const blob = new Blob(buffers, {type: 'application/binary'});\n",
              "      const a = document.createElement('a');\n",
              "      a.href = window.URL.createObjectURL(blob);\n",
              "      a.download = filename;\n",
              "      div.appendChild(a);\n",
              "      a.click();\n",
              "      div.remove();\n",
              "    }\n",
              "  "
            ],
            "text/plain": [
              "<IPython.core.display.Javascript object>"
            ]
          },
          "metadata": {
            "tags": []
          }
        },
        {
          "output_type": "display_data",
          "data": {
            "application/javascript": [
              "download(\"download_b8c7b3a5-d0a8-43b5-b01c-c2f16411b9f7\", \"whatsapp_2021_sentiment.csv\", 45591)"
            ],
            "text/plain": [
              "<IPython.core.display.Javascript object>"
            ]
          },
          "metadata": {
            "tags": []
          }
        }
      ]
    },
    {
      "cell_type": "code",
      "metadata": {
        "colab": {
          "base_uri": "https://localhost:8080/",
          "height": 17
        },
        "id": "ebIz0sDAV0p7",
        "outputId": "7e2c52ff-c3b8-4706-c09d-af5321c08727"
      },
      "source": [
        "df.to_csv('whatsapp_feature_sentiment.csv')\n",
        "files.download('whatsapp_feature_sentiment.csv')"
      ],
      "execution_count": 22,
      "outputs": [
        {
          "output_type": "display_data",
          "data": {
            "application/javascript": [
              "\n",
              "    async function download(id, filename, size) {\n",
              "      if (!google.colab.kernel.accessAllowed) {\n",
              "        return;\n",
              "      }\n",
              "      const div = document.createElement('div');\n",
              "      const label = document.createElement('label');\n",
              "      label.textContent = `Downloading \"${filename}\": `;\n",
              "      div.appendChild(label);\n",
              "      const progress = document.createElement('progress');\n",
              "      progress.max = size;\n",
              "      div.appendChild(progress);\n",
              "      document.body.appendChild(div);\n",
              "\n",
              "      const buffers = [];\n",
              "      let downloaded = 0;\n",
              "\n",
              "      const channel = await google.colab.kernel.comms.open(id);\n",
              "      // Send a message to notify the kernel that we're ready.\n",
              "      channel.send({})\n",
              "\n",
              "      for await (const message of channel.messages) {\n",
              "        // Send a message to notify the kernel that we're ready.\n",
              "        channel.send({})\n",
              "        if (message.buffers) {\n",
              "          for (const buffer of message.buffers) {\n",
              "            buffers.push(buffer);\n",
              "            downloaded += buffer.byteLength;\n",
              "            progress.value = downloaded;\n",
              "          }\n",
              "        }\n",
              "      }\n",
              "      const blob = new Blob(buffers, {type: 'application/binary'});\n",
              "      const a = document.createElement('a');\n",
              "      a.href = window.URL.createObjectURL(blob);\n",
              "      a.download = filename;\n",
              "      div.appendChild(a);\n",
              "      a.click();\n",
              "      div.remove();\n",
              "    }\n",
              "  "
            ],
            "text/plain": [
              "<IPython.core.display.Javascript object>"
            ]
          },
          "metadata": {
            "tags": []
          }
        },
        {
          "output_type": "display_data",
          "data": {
            "application/javascript": [
              "download(\"download_2f881560-cd5d-41d1-bf97-259490dbd271\", \"whatsapp_feature_sentiment.csv\", 46165)"
            ],
            "text/plain": [
              "<IPython.core.display.Javascript object>"
            ]
          },
          "metadata": {
            "tags": []
          }
        }
      ]
    },
    {
      "cell_type": "code",
      "metadata": {
        "colab": {
          "base_uri": "https://localhost:8080/",
          "height": 17
        },
        "id": "moCOe_q_V6G9",
        "outputId": "0184de66-0cc4-4016-f3a1-9631fc88e5b1"
      },
      "source": [
        "df.to_csv('whatsapp_privacy_sentiment.csv')\n",
        "files.download('whatsapp_privacy_sentiment.csv')"
      ],
      "execution_count": 20,
      "outputs": [
        {
          "output_type": "display_data",
          "data": {
            "application/javascript": [
              "\n",
              "    async function download(id, filename, size) {\n",
              "      if (!google.colab.kernel.accessAllowed) {\n",
              "        return;\n",
              "      }\n",
              "      const div = document.createElement('div');\n",
              "      const label = document.createElement('label');\n",
              "      label.textContent = `Downloading \"${filename}\": `;\n",
              "      div.appendChild(label);\n",
              "      const progress = document.createElement('progress');\n",
              "      progress.max = size;\n",
              "      div.appendChild(progress);\n",
              "      document.body.appendChild(div);\n",
              "\n",
              "      const buffers = [];\n",
              "      let downloaded = 0;\n",
              "\n",
              "      const channel = await google.colab.kernel.comms.open(id);\n",
              "      // Send a message to notify the kernel that we're ready.\n",
              "      channel.send({})\n",
              "\n",
              "      for await (const message of channel.messages) {\n",
              "        // Send a message to notify the kernel that we're ready.\n",
              "        channel.send({})\n",
              "        if (message.buffers) {\n",
              "          for (const buffer of message.buffers) {\n",
              "            buffers.push(buffer);\n",
              "            downloaded += buffer.byteLength;\n",
              "            progress.value = downloaded;\n",
              "          }\n",
              "        }\n",
              "      }\n",
              "      const blob = new Blob(buffers, {type: 'application/binary'});\n",
              "      const a = document.createElement('a');\n",
              "      a.href = window.URL.createObjectURL(blob);\n",
              "      a.download = filename;\n",
              "      div.appendChild(a);\n",
              "      a.click();\n",
              "      div.remove();\n",
              "    }\n",
              "  "
            ],
            "text/plain": [
              "<IPython.core.display.Javascript object>"
            ]
          },
          "metadata": {
            "tags": []
          }
        },
        {
          "output_type": "display_data",
          "data": {
            "application/javascript": [
              "download(\"download_4d5df9ed-c4d1-4adc-ba1b-4255cba1a1e3\", \"whatsapp_privacy_sentiment.csv\", 49506)"
            ],
            "text/plain": [
              "<IPython.core.display.Javascript object>"
            ]
          },
          "metadata": {
            "tags": []
          }
        }
      ]
    },
    {
      "cell_type": "code",
      "metadata": {
        "colab": {
          "base_uri": "https://localhost:8080/",
          "height": 17
        },
        "id": "TBNGD0seV9vT",
        "outputId": "ab801851-a084-4df2-dc3a-7f4c91285d39"
      },
      "source": [
        "df.to_csv('telegram_feature_sentiment.csv')\n",
        "files.download('telegram_feature_sentiment.csv')"
      ],
      "execution_count": 34,
      "outputs": [
        {
          "output_type": "display_data",
          "data": {
            "application/javascript": [
              "\n",
              "    async function download(id, filename, size) {\n",
              "      if (!google.colab.kernel.accessAllowed) {\n",
              "        return;\n",
              "      }\n",
              "      const div = document.createElement('div');\n",
              "      const label = document.createElement('label');\n",
              "      label.textContent = `Downloading \"${filename}\": `;\n",
              "      div.appendChild(label);\n",
              "      const progress = document.createElement('progress');\n",
              "      progress.max = size;\n",
              "      div.appendChild(progress);\n",
              "      document.body.appendChild(div);\n",
              "\n",
              "      const buffers = [];\n",
              "      let downloaded = 0;\n",
              "\n",
              "      const channel = await google.colab.kernel.comms.open(id);\n",
              "      // Send a message to notify the kernel that we're ready.\n",
              "      channel.send({})\n",
              "\n",
              "      for await (const message of channel.messages) {\n",
              "        // Send a message to notify the kernel that we're ready.\n",
              "        channel.send({})\n",
              "        if (message.buffers) {\n",
              "          for (const buffer of message.buffers) {\n",
              "            buffers.push(buffer);\n",
              "            downloaded += buffer.byteLength;\n",
              "            progress.value = downloaded;\n",
              "          }\n",
              "        }\n",
              "      }\n",
              "      const blob = new Blob(buffers, {type: 'application/binary'});\n",
              "      const a = document.createElement('a');\n",
              "      a.href = window.URL.createObjectURL(blob);\n",
              "      a.download = filename;\n",
              "      div.appendChild(a);\n",
              "      a.click();\n",
              "      div.remove();\n",
              "    }\n",
              "  "
            ],
            "text/plain": [
              "<IPython.core.display.Javascript object>"
            ]
          },
          "metadata": {
            "tags": []
          }
        },
        {
          "output_type": "display_data",
          "data": {
            "application/javascript": [
              "download(\"download_00b62dda-eb6b-4d1c-bcad-c16b2bae5b28\", \"telegram_feature_sentiment.csv\", 48010)"
            ],
            "text/plain": [
              "<IPython.core.display.Javascript object>"
            ]
          },
          "metadata": {
            "tags": []
          }
        }
      ]
    },
    {
      "cell_type": "code",
      "metadata": {
        "colab": {
          "base_uri": "https://localhost:8080/",
          "height": 17
        },
        "id": "FGu0N1YyV-CZ",
        "outputId": "dd3aed84-ba17-4bb3-9e13-211485a181f5"
      },
      "source": [
        "df.to_csv('telegram_privacy_sentiment.csv')\n",
        "files.download('telegram_privacy_sentiment.csv')"
      ],
      "execution_count": 20,
      "outputs": [
        {
          "output_type": "display_data",
          "data": {
            "application/javascript": [
              "\n",
              "    async function download(id, filename, size) {\n",
              "      if (!google.colab.kernel.accessAllowed) {\n",
              "        return;\n",
              "      }\n",
              "      const div = document.createElement('div');\n",
              "      const label = document.createElement('label');\n",
              "      label.textContent = `Downloading \"${filename}\": `;\n",
              "      div.appendChild(label);\n",
              "      const progress = document.createElement('progress');\n",
              "      progress.max = size;\n",
              "      div.appendChild(progress);\n",
              "      document.body.appendChild(div);\n",
              "\n",
              "      const buffers = [];\n",
              "      let downloaded = 0;\n",
              "\n",
              "      const channel = await google.colab.kernel.comms.open(id);\n",
              "      // Send a message to notify the kernel that we're ready.\n",
              "      channel.send({})\n",
              "\n",
              "      for await (const message of channel.messages) {\n",
              "        // Send a message to notify the kernel that we're ready.\n",
              "        channel.send({})\n",
              "        if (message.buffers) {\n",
              "          for (const buffer of message.buffers) {\n",
              "            buffers.push(buffer);\n",
              "            downloaded += buffer.byteLength;\n",
              "            progress.value = downloaded;\n",
              "          }\n",
              "        }\n",
              "      }\n",
              "      const blob = new Blob(buffers, {type: 'application/binary'});\n",
              "      const a = document.createElement('a');\n",
              "      a.href = window.URL.createObjectURL(blob);\n",
              "      a.download = filename;\n",
              "      div.appendChild(a);\n",
              "      a.click();\n",
              "      div.remove();\n",
              "    }\n",
              "  "
            ],
            "text/plain": [
              "<IPython.core.display.Javascript object>"
            ]
          },
          "metadata": {
            "tags": []
          }
        },
        {
          "output_type": "display_data",
          "data": {
            "application/javascript": [
              "download(\"download_e3a7316e-6218-4a7e-b0e9-577fc770a6b5\", \"telegram_privacy_sentiment.csv\", 54994)"
            ],
            "text/plain": [
              "<IPython.core.display.Javascript object>"
            ]
          },
          "metadata": {
            "tags": []
          }
        }
      ]
    }
  ]
}